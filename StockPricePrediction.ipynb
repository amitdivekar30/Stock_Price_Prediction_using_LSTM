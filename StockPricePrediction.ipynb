{
 "cells": [
  {
   "cell_type": "code",
   "execution_count": 4,
   "metadata": {},
   "outputs": [],
   "source": [
    "import os\n",
    "os.chdir('E:\\projects\\Stock_Price_Prediction')"
   ]
  },
  {
   "cell_type": "code",
   "execution_count": 4,
   "metadata": {
    "colab": {
     "base_uri": "https://localhost:8080/"
    },
    "id": "LgWFyEtJBVKM",
    "outputId": "753269e7-733a-485f-be65-dc1739786ee6"
   },
   "outputs": [
    {
     "name": "stdout",
     "output_type": "stream",
     "text": [
      "bajaj-2003-2020.csv\n"
     ]
    }
   ],
   "source": [
    "ls"
   ]
  },
  {
   "cell_type": "code",
   "execution_count": 5,
   "metadata": {
    "id": "5VaU21LpxvZM"
   },
   "outputs": [],
   "source": [
    "import pandas as pd"
   ]
  },
  {
   "cell_type": "code",
   "execution_count": 6,
   "metadata": {
    "id": "rWlQ0N9ux4zS"
   },
   "outputs": [],
   "source": [
    "df=pd.read_csv('bajaj-2003-2020.csv')"
   ]
  },
  {
   "cell_type": "code",
   "execution_count": 7,
   "metadata": {
    "colab": {
     "base_uri": "https://localhost:8080/",
     "height": 306
    },
    "id": "t8WBtMv0x5RB",
    "outputId": "bd43a7ee-fc43-4189-d94b-4a96b36f3125"
   },
   "outputs": [
    {
     "data": {
      "text/html": [
       "<div>\n",
       "<style scoped>\n",
       "    .dataframe tbody tr th:only-of-type {\n",
       "        vertical-align: middle;\n",
       "    }\n",
       "\n",
       "    .dataframe tbody tr th {\n",
       "        vertical-align: top;\n",
       "    }\n",
       "\n",
       "    .dataframe thead th {\n",
       "        text-align: right;\n",
       "    }\n",
       "</style>\n",
       "<table border=\"1\" class=\"dataframe\">\n",
       "  <thead>\n",
       "    <tr style=\"text-align: right;\">\n",
       "      <th></th>\n",
       "      <th>Symbol</th>\n",
       "      <th>Series</th>\n",
       "      <th>Date</th>\n",
       "      <th>Prev Close</th>\n",
       "      <th>Open Price</th>\n",
       "      <th>High Price</th>\n",
       "      <th>Low Price</th>\n",
       "      <th>Last Price</th>\n",
       "      <th>Close Price</th>\n",
       "      <th>Average Price</th>\n",
       "      <th>Total Traded Quantity</th>\n",
       "      <th>Turnover</th>\n",
       "      <th>No. of Trades</th>\n",
       "    </tr>\n",
       "  </thead>\n",
       "  <tbody>\n",
       "    <tr>\n",
       "      <th>0</th>\n",
       "      <td>BAJAUTOFIN</td>\n",
       "      <td>EQ</td>\n",
       "      <td>01-Jan-2003</td>\n",
       "      <td>48.10</td>\n",
       "      <td>49.5</td>\n",
       "      <td>49.50</td>\n",
       "      <td>48.5</td>\n",
       "      <td>49.0</td>\n",
       "      <td>49.00</td>\n",
       "      <td>49.14</td>\n",
       "      <td>3595</td>\n",
       "      <td>176665.00</td>\n",
       "      <td>-</td>\n",
       "    </tr>\n",
       "    <tr>\n",
       "      <th>1</th>\n",
       "      <td>BAJAUTOFIN</td>\n",
       "      <td>EQ</td>\n",
       "      <td>02-Jan-2003</td>\n",
       "      <td>49.00</td>\n",
       "      <td>49.0</td>\n",
       "      <td>49.25</td>\n",
       "      <td>49.0</td>\n",
       "      <td>49.0</td>\n",
       "      <td>49.00</td>\n",
       "      <td>49.04</td>\n",
       "      <td>1975</td>\n",
       "      <td>96852.50</td>\n",
       "      <td>-</td>\n",
       "    </tr>\n",
       "    <tr>\n",
       "      <th>2</th>\n",
       "      <td>BAJAUTOFIN</td>\n",
       "      <td>EQ</td>\n",
       "      <td>03-Jan-2003</td>\n",
       "      <td>49.00</td>\n",
       "      <td>48.0</td>\n",
       "      <td>49.25</td>\n",
       "      <td>48.0</td>\n",
       "      <td>49.1</td>\n",
       "      <td>49.15</td>\n",
       "      <td>48.83</td>\n",
       "      <td>761</td>\n",
       "      <td>37158.75</td>\n",
       "      <td>-</td>\n",
       "    </tr>\n",
       "    <tr>\n",
       "      <th>3</th>\n",
       "      <td>BAJAUTOFIN</td>\n",
       "      <td>EQ</td>\n",
       "      <td>06-Jan-2003</td>\n",
       "      <td>49.15</td>\n",
       "      <td>46.0</td>\n",
       "      <td>48.75</td>\n",
       "      <td>46.0</td>\n",
       "      <td>48.5</td>\n",
       "      <td>48.55</td>\n",
       "      <td>48.27</td>\n",
       "      <td>809</td>\n",
       "      <td>39054.25</td>\n",
       "      <td>-</td>\n",
       "    </tr>\n",
       "    <tr>\n",
       "      <th>4</th>\n",
       "      <td>BAJAUTOFIN</td>\n",
       "      <td>EQ</td>\n",
       "      <td>07-Jan-2003</td>\n",
       "      <td>48.55</td>\n",
       "      <td>47.0</td>\n",
       "      <td>49.25</td>\n",
       "      <td>47.0</td>\n",
       "      <td>49.0</td>\n",
       "      <td>49.00</td>\n",
       "      <td>48.86</td>\n",
       "      <td>1138</td>\n",
       "      <td>55606.50</td>\n",
       "      <td>-</td>\n",
       "    </tr>\n",
       "  </tbody>\n",
       "</table>\n",
       "</div>"
      ],
      "text/plain": [
       "       Symbol Series  ...   Turnover  No. of Trades\n",
       "0  BAJAUTOFIN     EQ  ...  176665.00              -\n",
       "1  BAJAUTOFIN     EQ  ...   96852.50              -\n",
       "2  BAJAUTOFIN     EQ  ...   37158.75              -\n",
       "3  BAJAUTOFIN     EQ  ...   39054.25              -\n",
       "4  BAJAUTOFIN     EQ  ...   55606.50              -\n",
       "\n",
       "[5 rows x 13 columns]"
      ]
     },
     "execution_count": 7,
     "metadata": {
      "tags": []
     },
     "output_type": "execute_result"
    }
   ],
   "source": [
    "df.head()"
   ]
  },
  {
   "cell_type": "code",
   "execution_count": 8,
   "metadata": {
    "colab": {
     "base_uri": "https://localhost:8080/",
     "height": 306
    },
    "id": "_JON0qCDyXcz",
    "outputId": "825c9fce-2f85-496e-c46a-2d1ecde79124"
   },
   "outputs": [
    {
     "data": {
      "text/html": [
       "<div>\n",
       "<style scoped>\n",
       "    .dataframe tbody tr th:only-of-type {\n",
       "        vertical-align: middle;\n",
       "    }\n",
       "\n",
       "    .dataframe tbody tr th {\n",
       "        vertical-align: top;\n",
       "    }\n",
       "\n",
       "    .dataframe thead th {\n",
       "        text-align: right;\n",
       "    }\n",
       "</style>\n",
       "<table border=\"1\" class=\"dataframe\">\n",
       "  <thead>\n",
       "    <tr style=\"text-align: right;\">\n",
       "      <th></th>\n",
       "      <th>Symbol</th>\n",
       "      <th>Series</th>\n",
       "      <th>Date</th>\n",
       "      <th>Prev Close</th>\n",
       "      <th>Open Price</th>\n",
       "      <th>High Price</th>\n",
       "      <th>Low Price</th>\n",
       "      <th>Last Price</th>\n",
       "      <th>Close Price</th>\n",
       "      <th>Average Price</th>\n",
       "      <th>Total Traded Quantity</th>\n",
       "      <th>Turnover</th>\n",
       "      <th>No. of Trades</th>\n",
       "    </tr>\n",
       "  </thead>\n",
       "  <tbody>\n",
       "    <tr>\n",
       "      <th>4383</th>\n",
       "      <td>BAJFINANCE</td>\n",
       "      <td>EQ</td>\n",
       "      <td>20-Jul-2020</td>\n",
       "      <td>3301.30</td>\n",
       "      <td>3344.95</td>\n",
       "      <td>3453.95</td>\n",
       "      <td>3316.50</td>\n",
       "      <td>3436.00</td>\n",
       "      <td>3441.50</td>\n",
       "      <td>3389.56</td>\n",
       "      <td>10556334</td>\n",
       "      <td>3.578134e+10</td>\n",
       "      <td>358852</td>\n",
       "    </tr>\n",
       "    <tr>\n",
       "      <th>4384</th>\n",
       "      <td>BAJFINANCE</td>\n",
       "      <td>EQ</td>\n",
       "      <td>21-Jul-2020</td>\n",
       "      <td>3441.50</td>\n",
       "      <td>3500.00</td>\n",
       "      <td>3519.50</td>\n",
       "      <td>3218.65</td>\n",
       "      <td>3304.00</td>\n",
       "      <td>3292.45</td>\n",
       "      <td>3385.18</td>\n",
       "      <td>25960105</td>\n",
       "      <td>8.787972e+10</td>\n",
       "      <td>979111</td>\n",
       "    </tr>\n",
       "    <tr>\n",
       "      <th>4385</th>\n",
       "      <td>BAJFINANCE</td>\n",
       "      <td>EQ</td>\n",
       "      <td>22-Jul-2020</td>\n",
       "      <td>3292.45</td>\n",
       "      <td>3320.00</td>\n",
       "      <td>3340.00</td>\n",
       "      <td>3193.60</td>\n",
       "      <td>3250.00</td>\n",
       "      <td>3253.00</td>\n",
       "      <td>3265.62</td>\n",
       "      <td>17070171</td>\n",
       "      <td>5.574463e+10</td>\n",
       "      <td>644441</td>\n",
       "    </tr>\n",
       "    <tr>\n",
       "      <th>4386</th>\n",
       "      <td>BAJFINANCE</td>\n",
       "      <td>EQ</td>\n",
       "      <td>23-Jul-2020</td>\n",
       "      <td>3253.00</td>\n",
       "      <td>3253.00</td>\n",
       "      <td>3320.00</td>\n",
       "      <td>3216.05</td>\n",
       "      <td>3296.05</td>\n",
       "      <td>3297.80</td>\n",
       "      <td>3288.19</td>\n",
       "      <td>8718708</td>\n",
       "      <td>2.866877e+10</td>\n",
       "      <td>315794</td>\n",
       "    </tr>\n",
       "    <tr>\n",
       "      <th>4387</th>\n",
       "      <td>BAJFINANCE</td>\n",
       "      <td>EQ</td>\n",
       "      <td>24-Jul-2020</td>\n",
       "      <td>3297.80</td>\n",
       "      <td>3245.00</td>\n",
       "      <td>3290.00</td>\n",
       "      <td>3220.00</td>\n",
       "      <td>3250.00</td>\n",
       "      <td>3251.85</td>\n",
       "      <td>3251.26</td>\n",
       "      <td>6637888</td>\n",
       "      <td>2.158147e+10</td>\n",
       "      <td>257319</td>\n",
       "    </tr>\n",
       "  </tbody>\n",
       "</table>\n",
       "</div>"
      ],
      "text/plain": [
       "          Symbol Series  ...      Turnover  No. of Trades\n",
       "4383  BAJFINANCE     EQ  ...  3.578134e+10         358852\n",
       "4384  BAJFINANCE     EQ  ...  8.787972e+10         979111\n",
       "4385  BAJFINANCE     EQ  ...  5.574463e+10         644441\n",
       "4386  BAJFINANCE     EQ  ...  2.866877e+10         315794\n",
       "4387  BAJFINANCE     EQ  ...  2.158147e+10         257319\n",
       "\n",
       "[5 rows x 13 columns]"
      ]
     },
     "execution_count": 8,
     "metadata": {
      "tags": []
     },
     "output_type": "execute_result"
    }
   ],
   "source": [
    "df.tail()"
   ]
  },
  {
   "cell_type": "code",
   "execution_count": 9,
   "metadata": {
    "colab": {
     "base_uri": "https://localhost:8080/"
    },
    "id": "hn7RZEj0yXU9",
    "outputId": "d694defa-a234-4efb-9e2c-3d77715695ed"
   },
   "outputs": [
    {
     "name": "stdout",
     "output_type": "stream",
     "text": [
      "<class 'pandas.core.frame.DataFrame'>\n",
      "RangeIndex: 4388 entries, 0 to 4387\n",
      "Data columns (total 13 columns):\n",
      " #   Column                 Non-Null Count  Dtype  \n",
      "---  ------                 --------------  -----  \n",
      " 0   Symbol                 4388 non-null   object \n",
      " 1   Series                 4388 non-null   object \n",
      " 2   Date                   4388 non-null   object \n",
      " 3   Prev Close             4388 non-null   float64\n",
      " 4   Open Price             4388 non-null   float64\n",
      " 5   High Price             4388 non-null   float64\n",
      " 6   Low Price              4388 non-null   float64\n",
      " 7   Last Price             4388 non-null   float64\n",
      " 8   Close Price            4388 non-null   float64\n",
      " 9   Average Price          4388 non-null   float64\n",
      " 10  Total Traded Quantity  4388 non-null   int64  \n",
      " 11  Turnover               4388 non-null   float64\n",
      " 12  No. of Trades          4388 non-null   object \n",
      "dtypes: float64(8), int64(1), object(4)\n",
      "memory usage: 445.8+ KB\n"
     ]
    }
   ],
   "source": [
    "df.info()"
   ]
  },
  {
   "cell_type": "code",
   "execution_count": 10,
   "metadata": {
    "colab": {
     "base_uri": "https://localhost:8080/",
     "height": 193
    },
    "id": "f-zDO5LNutbp",
    "outputId": "f43b5bab-6bd3-47a3-a6f0-8835fc1fdc45"
   },
   "outputs": [
    {
     "data": {
      "text/html": [
       "<div>\n",
       "<style scoped>\n",
       "    .dataframe tbody tr th:only-of-type {\n",
       "        vertical-align: middle;\n",
       "    }\n",
       "\n",
       "    .dataframe tbody tr th {\n",
       "        vertical-align: top;\n",
       "    }\n",
       "\n",
       "    .dataframe thead th {\n",
       "        text-align: right;\n",
       "    }\n",
       "</style>\n",
       "<table border=\"1\" class=\"dataframe\">\n",
       "  <thead>\n",
       "    <tr style=\"text-align: right;\">\n",
       "      <th></th>\n",
       "      <th>Symbol</th>\n",
       "      <th>Series</th>\n",
       "      <th>Prev Close</th>\n",
       "      <th>Open Price</th>\n",
       "      <th>High Price</th>\n",
       "      <th>Low Price</th>\n",
       "      <th>Last Price</th>\n",
       "      <th>Close Price</th>\n",
       "      <th>Average Price</th>\n",
       "      <th>Total Traded Quantity</th>\n",
       "      <th>Turnover</th>\n",
       "      <th>No. of Trades</th>\n",
       "    </tr>\n",
       "    <tr>\n",
       "      <th>Date</th>\n",
       "      <th></th>\n",
       "      <th></th>\n",
       "      <th></th>\n",
       "      <th></th>\n",
       "      <th></th>\n",
       "      <th></th>\n",
       "      <th></th>\n",
       "      <th></th>\n",
       "      <th></th>\n",
       "      <th></th>\n",
       "      <th></th>\n",
       "      <th></th>\n",
       "    </tr>\n",
       "  </thead>\n",
       "  <tbody>\n",
       "    <tr>\n",
       "      <th>2003-01-01</th>\n",
       "      <td>BAJAUTOFIN</td>\n",
       "      <td>EQ</td>\n",
       "      <td>48.1</td>\n",
       "      <td>49.5</td>\n",
       "      <td>49.50</td>\n",
       "      <td>48.5</td>\n",
       "      <td>49.0</td>\n",
       "      <td>49.0</td>\n",
       "      <td>49.14</td>\n",
       "      <td>3595</td>\n",
       "      <td>176665.0</td>\n",
       "      <td>-</td>\n",
       "    </tr>\n",
       "    <tr>\n",
       "      <th>2003-01-02</th>\n",
       "      <td>BAJAUTOFIN</td>\n",
       "      <td>EQ</td>\n",
       "      <td>49.0</td>\n",
       "      <td>49.0</td>\n",
       "      <td>49.25</td>\n",
       "      <td>49.0</td>\n",
       "      <td>49.0</td>\n",
       "      <td>49.0</td>\n",
       "      <td>49.04</td>\n",
       "      <td>1975</td>\n",
       "      <td>96852.5</td>\n",
       "      <td>-</td>\n",
       "    </tr>\n",
       "  </tbody>\n",
       "</table>\n",
       "</div>"
      ],
      "text/plain": [
       "                Symbol Series  ...  Turnover  No. of Trades\n",
       "Date                           ...                         \n",
       "2003-01-01  BAJAUTOFIN     EQ  ...  176665.0              -\n",
       "2003-01-02  BAJAUTOFIN     EQ  ...   96852.5              -\n",
       "\n",
       "[2 rows x 12 columns]"
      ]
     },
     "execution_count": 10,
     "metadata": {
      "tags": []
     },
     "output_type": "execute_result"
    }
   ],
   "source": [
    "plot_x = df['Date'].copy()\n",
    "df.set_index(\"Date\", inplace = True)\n",
    "df.index = pd.to_datetime(df.index)\n",
    "df.head(2)"
   ]
  },
  {
   "cell_type": "code",
   "execution_count": 11,
   "metadata": {
    "colab": {
     "base_uri": "https://localhost:8080/",
     "height": 337
    },
    "id": "BCAcxVOwppK1",
    "outputId": "e95ba427-3e88-4883-9cb0-f7e1fa198226"
   },
   "outputs": [
    {
     "data": {
      "text/html": [
       "<div>\n",
       "<style scoped>\n",
       "    .dataframe tbody tr th:only-of-type {\n",
       "        vertical-align: middle;\n",
       "    }\n",
       "\n",
       "    .dataframe tbody tr th {\n",
       "        vertical-align: top;\n",
       "    }\n",
       "\n",
       "    .dataframe thead th {\n",
       "        text-align: right;\n",
       "    }\n",
       "</style>\n",
       "<table border=\"1\" class=\"dataframe\">\n",
       "  <thead>\n",
       "    <tr style=\"text-align: right;\">\n",
       "      <th></th>\n",
       "      <th>Symbol</th>\n",
       "      <th>Series</th>\n",
       "      <th>Prev Close</th>\n",
       "      <th>Open Price</th>\n",
       "      <th>High Price</th>\n",
       "      <th>Low Price</th>\n",
       "      <th>Last Price</th>\n",
       "      <th>Close Price</th>\n",
       "      <th>Average Price</th>\n",
       "      <th>Total Traded Quantity</th>\n",
       "      <th>Turnover</th>\n",
       "      <th>No. of Trades</th>\n",
       "    </tr>\n",
       "    <tr>\n",
       "      <th>Date</th>\n",
       "      <th></th>\n",
       "      <th></th>\n",
       "      <th></th>\n",
       "      <th></th>\n",
       "      <th></th>\n",
       "      <th></th>\n",
       "      <th></th>\n",
       "      <th></th>\n",
       "      <th></th>\n",
       "      <th></th>\n",
       "      <th></th>\n",
       "      <th></th>\n",
       "    </tr>\n",
       "  </thead>\n",
       "  <tbody>\n",
       "    <tr>\n",
       "      <th>2010-09-29</th>\n",
       "      <td>BAJFINANCE</td>\n",
       "      <td>EQ</td>\n",
       "      <td>793.60</td>\n",
       "      <td>780.0</td>\n",
       "      <td>805.00</td>\n",
       "      <td>770.00</td>\n",
       "      <td>776.00</td>\n",
       "      <td>774.60</td>\n",
       "      <td>783.42</td>\n",
       "      <td>26000</td>\n",
       "      <td>20369029.10</td>\n",
       "      <td>-</td>\n",
       "    </tr>\n",
       "    <tr>\n",
       "      <th>2010-09-30</th>\n",
       "      <td>BAJFINANCE</td>\n",
       "      <td>EQ</td>\n",
       "      <td>774.60</td>\n",
       "      <td>775.0</td>\n",
       "      <td>783.45</td>\n",
       "      <td>766.25</td>\n",
       "      <td>772.00</td>\n",
       "      <td>773.55</td>\n",
       "      <td>774.33</td>\n",
       "      <td>17350</td>\n",
       "      <td>13434686.25</td>\n",
       "      <td>-</td>\n",
       "    </tr>\n",
       "    <tr>\n",
       "      <th>2010-10-01</th>\n",
       "      <td>BAJFINANCE</td>\n",
       "      <td>EQ</td>\n",
       "      <td>773.55</td>\n",
       "      <td>763.0</td>\n",
       "      <td>797.30</td>\n",
       "      <td>760.25</td>\n",
       "      <td>773.60</td>\n",
       "      <td>774.95</td>\n",
       "      <td>780.22</td>\n",
       "      <td>35941</td>\n",
       "      <td>28041955.80</td>\n",
       "      <td>-</td>\n",
       "    </tr>\n",
       "    <tr>\n",
       "      <th>2010-10-04</th>\n",
       "      <td>BAJFINANCE</td>\n",
       "      <td>EQ</td>\n",
       "      <td>774.95</td>\n",
       "      <td>788.0</td>\n",
       "      <td>795.00</td>\n",
       "      <td>775.00</td>\n",
       "      <td>786.65</td>\n",
       "      <td>783.40</td>\n",
       "      <td>786.88</td>\n",
       "      <td>31160</td>\n",
       "      <td>24519305.25</td>\n",
       "      <td>-</td>\n",
       "    </tr>\n",
       "    <tr>\n",
       "      <th>2010-10-05</th>\n",
       "      <td>BAJFINANCE</td>\n",
       "      <td>EQ</td>\n",
       "      <td>783.40</td>\n",
       "      <td>775.1</td>\n",
       "      <td>788.00</td>\n",
       "      <td>772.05</td>\n",
       "      <td>778.95</td>\n",
       "      <td>779.00</td>\n",
       "      <td>778.79</td>\n",
       "      <td>32141</td>\n",
       "      <td>25031172.60</td>\n",
       "      <td>-</td>\n",
       "    </tr>\n",
       "  </tbody>\n",
       "</table>\n",
       "</div>"
      ],
      "text/plain": [
       "                Symbol Series  ...     Turnover  No. of Trades\n",
       "Date                           ...                            \n",
       "2010-09-29  BAJFINANCE     EQ  ...  20369029.10              -\n",
       "2010-09-30  BAJFINANCE     EQ  ...  13434686.25              -\n",
       "2010-10-01  BAJFINANCE     EQ  ...  28041955.80              -\n",
       "2010-10-04  BAJFINANCE     EQ  ...  24519305.25              -\n",
       "2010-10-05  BAJFINANCE     EQ  ...  25031172.60              -\n",
       "\n",
       "[5 rows x 12 columns]"
      ]
     },
     "execution_count": 11,
     "metadata": {
      "tags": []
     },
     "output_type": "execute_result"
    }
   ],
   "source": [
    "dff = df[df['Symbol'] == 'BAJFINANCE']\n",
    "dff.head()"
   ]
  },
  {
   "cell_type": "code",
   "execution_count": 12,
   "metadata": {
    "colab": {
     "base_uri": "https://localhost:8080/",
     "height": 337
    },
    "id": "6N-EHaXEposv",
    "outputId": "fa3838b4-efc3-4474-ad63-a6e9d832d141"
   },
   "outputs": [
    {
     "data": {
      "text/html": [
       "<div>\n",
       "<style scoped>\n",
       "    .dataframe tbody tr th:only-of-type {\n",
       "        vertical-align: middle;\n",
       "    }\n",
       "\n",
       "    .dataframe tbody tr th {\n",
       "        vertical-align: top;\n",
       "    }\n",
       "\n",
       "    .dataframe thead th {\n",
       "        text-align: right;\n",
       "    }\n",
       "</style>\n",
       "<table border=\"1\" class=\"dataframe\">\n",
       "  <thead>\n",
       "    <tr style=\"text-align: right;\">\n",
       "      <th></th>\n",
       "      <th>Symbol</th>\n",
       "      <th>Series</th>\n",
       "      <th>Prev Close</th>\n",
       "      <th>Open Price</th>\n",
       "      <th>High Price</th>\n",
       "      <th>Low Price</th>\n",
       "      <th>Last Price</th>\n",
       "      <th>Close Price</th>\n",
       "      <th>Average Price</th>\n",
       "      <th>Total Traded Quantity</th>\n",
       "      <th>Turnover</th>\n",
       "      <th>No. of Trades</th>\n",
       "    </tr>\n",
       "    <tr>\n",
       "      <th>Date</th>\n",
       "      <th></th>\n",
       "      <th></th>\n",
       "      <th></th>\n",
       "      <th></th>\n",
       "      <th></th>\n",
       "      <th></th>\n",
       "      <th></th>\n",
       "      <th></th>\n",
       "      <th></th>\n",
       "      <th></th>\n",
       "      <th></th>\n",
       "      <th></th>\n",
       "    </tr>\n",
       "  </thead>\n",
       "  <tbody>\n",
       "    <tr>\n",
       "      <th>2010-09-29</th>\n",
       "      <td>BAJFINANCE</td>\n",
       "      <td>EQ</td>\n",
       "      <td>793.60</td>\n",
       "      <td>780.0</td>\n",
       "      <td>805.00</td>\n",
       "      <td>770.00</td>\n",
       "      <td>776.00</td>\n",
       "      <td>774.60</td>\n",
       "      <td>783.42</td>\n",
       "      <td>26000</td>\n",
       "      <td>20369029.10</td>\n",
       "      <td>-</td>\n",
       "    </tr>\n",
       "    <tr>\n",
       "      <th>2010-09-30</th>\n",
       "      <td>BAJFINANCE</td>\n",
       "      <td>EQ</td>\n",
       "      <td>774.60</td>\n",
       "      <td>775.0</td>\n",
       "      <td>783.45</td>\n",
       "      <td>766.25</td>\n",
       "      <td>772.00</td>\n",
       "      <td>773.55</td>\n",
       "      <td>774.33</td>\n",
       "      <td>17350</td>\n",
       "      <td>13434686.25</td>\n",
       "      <td>-</td>\n",
       "    </tr>\n",
       "    <tr>\n",
       "      <th>2010-10-01</th>\n",
       "      <td>BAJFINANCE</td>\n",
       "      <td>EQ</td>\n",
       "      <td>773.55</td>\n",
       "      <td>763.0</td>\n",
       "      <td>797.30</td>\n",
       "      <td>760.25</td>\n",
       "      <td>773.60</td>\n",
       "      <td>774.95</td>\n",
       "      <td>780.22</td>\n",
       "      <td>35941</td>\n",
       "      <td>28041955.80</td>\n",
       "      <td>-</td>\n",
       "    </tr>\n",
       "    <tr>\n",
       "      <th>2010-10-04</th>\n",
       "      <td>BAJFINANCE</td>\n",
       "      <td>EQ</td>\n",
       "      <td>774.95</td>\n",
       "      <td>788.0</td>\n",
       "      <td>795.00</td>\n",
       "      <td>775.00</td>\n",
       "      <td>786.65</td>\n",
       "      <td>783.40</td>\n",
       "      <td>786.88</td>\n",
       "      <td>31160</td>\n",
       "      <td>24519305.25</td>\n",
       "      <td>-</td>\n",
       "    </tr>\n",
       "    <tr>\n",
       "      <th>2010-10-05</th>\n",
       "      <td>BAJFINANCE</td>\n",
       "      <td>EQ</td>\n",
       "      <td>783.40</td>\n",
       "      <td>775.1</td>\n",
       "      <td>788.00</td>\n",
       "      <td>772.05</td>\n",
       "      <td>778.95</td>\n",
       "      <td>779.00</td>\n",
       "      <td>778.79</td>\n",
       "      <td>32141</td>\n",
       "      <td>25031172.60</td>\n",
       "      <td>-</td>\n",
       "    </tr>\n",
       "  </tbody>\n",
       "</table>\n",
       "</div>"
      ],
      "text/plain": [
       "                Symbol Series  ...     Turnover  No. of Trades\n",
       "Date                           ...                            \n",
       "2010-09-29  BAJFINANCE     EQ  ...  20369029.10              -\n",
       "2010-09-30  BAJFINANCE     EQ  ...  13434686.25              -\n",
       "2010-10-01  BAJFINANCE     EQ  ...  28041955.80              -\n",
       "2010-10-04  BAJFINANCE     EQ  ...  24519305.25              -\n",
       "2010-10-05  BAJFINANCE     EQ  ...  25031172.60              -\n",
       "\n",
       "[5 rows x 12 columns]"
      ]
     },
     "execution_count": 12,
     "metadata": {
      "tags": []
     },
     "output_type": "execute_result"
    }
   ],
   "source": [
    "dff1 = dff[dff['Series'] == 'EQ']\n",
    "dff1.head()"
   ]
  },
  {
   "cell_type": "code",
   "execution_count": 13,
   "metadata": {
    "id": "gMGLcRM8yXID"
   },
   "outputs": [],
   "source": [
    "df1=dff1.reset_index()['Close Price']"
   ]
  },
  {
   "cell_type": "code",
   "execution_count": 14,
   "metadata": {
    "colab": {
     "base_uri": "https://localhost:8080/"
    },
    "id": "QXr-Wj1g2OtP",
    "outputId": "fc68ae91-0513-42c3-be3e-618983325faa"
   },
   "outputs": [
    {
     "data": {
      "text/plain": [
       "0        774.60\n",
       "1        773.55\n",
       "2        774.95\n",
       "3        783.40\n",
       "4        779.00\n",
       "         ...   \n",
       "2428    3441.50\n",
       "2429    3292.45\n",
       "2430    3253.00\n",
       "2431    3297.80\n",
       "2432    3251.85\n",
       "Name: Close Price, Length: 2433, dtype: float64"
      ]
     },
     "execution_count": 14,
     "metadata": {
      "tags": []
     },
     "output_type": "execute_result"
    }
   ],
   "source": [
    "df1"
   ]
  },
  {
   "cell_type": "code",
   "execution_count": 15,
   "metadata": {
    "colab": {
     "base_uri": "https://localhost:8080/",
     "height": 282
    },
    "id": "2y959kaX2cmR",
    "outputId": "08598968-e3ac-4975-d179-4e11083a0f3c"
   },
   "outputs": [
    {
     "data": {
      "text/plain": [
       "[<matplotlib.lines.Line2D at 0x7f321cb76a90>]"
      ]
     },
     "execution_count": 15,
     "metadata": {
      "tags": []
     },
     "output_type": "execute_result"
    },
    {
     "data": {
      "image/png": "[encoded data removed]",
      "text/plain": [
       "<Figure size 432x288 with 1 Axes>"
      ]
     },
     "metadata": {
      "needs_background": "light",
      "tags": []
     },
     "output_type": "display_data"
    }
   ],
   "source": [
    "import matplotlib.pyplot as plt\n",
    "plt.plot(df1)"
   ]
  },
  {
   "cell_type": "code",
   "execution_count": 16,
   "metadata": {
    "id": "8wC734V72msQ"
   },
   "outputs": [],
   "source": [
    "import numpy as np"
   ]
  },
  {
   "cell_type": "code",
   "execution_count": 17,
   "metadata": {
    "id": "8OEe7MNN2mje"
   },
   "outputs": [],
   "source": [
    "from sklearn.preprocessing import MinMaxScaler\n",
    "scaler=MinMaxScaler(feature_range=(0,1))\n",
    "df1=scaler.fit_transform(np.array(df1).reshape(-1,1))"
   ]
  },
  {
   "cell_type": "code",
   "execution_count": 18,
   "metadata": {
    "colab": {
     "base_uri": "https://localhost:8080/"
    },
    "id": "cxHHGv1a2mf6",
    "outputId": "cfb13f14-8654-4bb0-f2aa-c6d7decaabea"
   },
   "outputs": [
    {
     "name": "stdout",
     "output_type": "stream",
     "text": [
      "[[0.02121874]\n",
      " [0.02112196]\n",
      " [0.021251  ]\n",
      " ...\n",
      " [0.24966586]\n",
      " [0.25379532]\n",
      " [0.24955986]]\n"
     ]
    }
   ],
   "source": [
    "print(df1)"
   ]
  },
  {
   "cell_type": "code",
   "execution_count": 19,
   "metadata": {
    "id": "g4Yxz34O2mct"
   },
   "outputs": [],
   "source": [
    "#splitting dataset into train and test split\n",
    "training_size=int(len(df1)*0.8)\n",
    "test_size=len(df1)-training_size\n",
    "train_data,test_data=df1[0:training_size,:],df1[training_size:len(df1),:1]"
   ]
  },
  {
   "cell_type": "code",
   "execution_count": 20,
   "metadata": {
    "colab": {
     "base_uri": "https://localhost:8080/"
    },
    "id": "0sfaGI262mZZ",
    "outputId": "84d5b447-7f4e-4271-ab67-887f5ff0e06f"
   },
   "outputs": [
    {
     "data": {
      "text/plain": [
       "(1946, 487)"
      ]
     },
     "execution_count": 20,
     "metadata": {
      "tags": []
     },
     "output_type": "execute_result"
    }
   ],
   "source": [
    "training_size,test_size"
   ]
  },
  {
   "cell_type": "code",
   "execution_count": 21,
   "metadata": {
    "colab": {
     "base_uri": "https://localhost:8080/"
    },
    "id": "_XN8yPRU3FSN",
    "outputId": "63576029-8c4d-44f9-db0a-3f07681bd5f4"
   },
   "outputs": [
    {
     "data": {
      "text/plain": [
       "array([[0.02121874],\n",
       "       [0.02112196],\n",
       "       [0.021251  ],\n",
       "       ...,\n",
       "       [0.19700154],\n",
       "       [0.19995576],\n",
       "       [0.1966651 ]])"
      ]
     },
     "execution_count": 21,
     "metadata": {
      "tags": []
     },
     "output_type": "execute_result"
    }
   ],
   "source": [
    "train_data"
   ]
  },
  {
   "cell_type": "code",
   "execution_count": 22,
   "metadata": {
    "id": "EuYgO73-3JdG"
   },
   "outputs": [],
   "source": [
    "import numpy\n",
    "# convert an array of values into a dataset matrix\n",
    "def create_dataset(dataset, time_step=1):\n",
    "\tdataX, dataY = [], []\n",
    "\tfor i in range(len(dataset)-time_step-1):\n",
    "\t\ta = dataset[i:(i+time_step), 0]   ###i=0, 0,1,2,3-----99   100 \n",
    "\t\tdataX.append(a)\n",
    "\t\tdataY.append(dataset[i + time_step, 0])\n",
    "\treturn numpy.array(dataX), numpy.array(dataY)"
   ]
  },
  {
   "cell_type": "code",
   "execution_count": 23,
   "metadata": {
    "id": "Yt_hcKSf3Kwy"
   },
   "outputs": [],
   "source": [
    "# reshape into X=t,t+1,t+2,t+3 and Y=t+4\n",
    "time_step = 100\n",
    "X_train, y_train = create_dataset(train_data, time_step)\n",
    "X_test, ytest = create_dataset(test_data, time_step)"
   ]
  },
  {
   "cell_type": "code",
   "execution_count": 24,
   "metadata": {
    "colab": {
     "base_uri": "https://localhost:8080/"
    },
    "id": "cAH8yBNF3Kkp",
    "outputId": "a1ae662c-5cde-4772-e4e5-02bb99ce6477"
   },
   "outputs": [
    {
     "name": "stdout",
     "output_type": "stream",
     "text": [
      "(1845, 100)\n",
      "(1845,)\n"
     ]
    },
    {
     "data": {
      "text/plain": [
       "(None, None)"
      ]
     },
     "execution_count": 24,
     "metadata": {
      "tags": []
     },
     "output_type": "execute_result"
    }
   ],
   "source": [
    "print(X_train.shape), print(y_train.shape)"
   ]
  },
  {
   "cell_type": "code",
   "execution_count": 25,
   "metadata": {
    "colab": {
     "base_uri": "https://localhost:8080/"
    },
    "id": "6GDg8pfb3KAT",
    "outputId": "e992d85f-87ba-4960-c83d-d58816c3235c"
   },
   "outputs": [
    {
     "name": "stdout",
     "output_type": "stream",
     "text": [
      "(386, 100)\n",
      "(386,)\n"
     ]
    },
    {
     "data": {
      "text/plain": [
       "(None, None)"
      ]
     },
     "execution_count": 25,
     "metadata": {
      "tags": []
     },
     "output_type": "execute_result"
    }
   ],
   "source": [
    "print(X_test.shape), print(ytest.shape)"
   ]
  },
  {
   "cell_type": "code",
   "execution_count": 26,
   "metadata": {
    "id": "65KOptgE3sIK"
   },
   "outputs": [],
   "source": [
    "# reshape input to be [samples, time steps, features] which is required for LSTM\n",
    "X_train =X_train.reshape(X_train.shape[0],X_train.shape[1] , 1)\n",
    "X_test = X_test.reshape(X_test.shape[0],X_test.shape[1] , 1)"
   ]
  },
  {
   "cell_type": "code",
   "execution_count": 27,
   "metadata": {
    "id": "bk8hCkTE3wWj"
   },
   "outputs": [],
   "source": [
    "### Create the Stacked LSTM model\n",
    "import tensorflow as tf\n",
    "from tensorflow.keras.models import Sequential, load_model, save_model\n",
    "from tensorflow.keras.layers import Dense\n",
    "from tensorflow.keras.layers import LSTM"
   ]
  },
  {
   "cell_type": "code",
   "execution_count": 28,
   "metadata": {
    "id": "94vIieBf304R"
   },
   "outputs": [],
   "source": [
    "model=Sequential()\n",
    "model.add(LSTM(50,return_sequences=True,input_shape=(100,1)))\n",
    "model.add(LSTM(50,return_sequences=True))\n",
    "model.add(LSTM(50))\n",
    "model.add(Dense(1))\n",
    "model.compile(loss='mean_squared_error',optimizer='adam')"
   ]
  },
  {
   "cell_type": "code",
   "execution_count": 29,
   "metadata": {
    "colab": {
     "base_uri": "https://localhost:8080/"
    },
    "id": "qYSJsKl735Fg",
    "outputId": "e2c433e6-4d45-4c6d-e5d9-51f7751fab4f"
   },
   "outputs": [
    {
     "name": "stdout",
     "output_type": "stream",
     "text": [
      "Model: \"sequential\"\n",
      "_________________________________________________________________\n",
      "Layer (type)                 Output Shape              Param #   \n",
      "=================================================================\n",
      "lstm (LSTM)                  (None, 100, 50)           10400     \n",
      "_________________________________________________________________\n",
      "lstm_1 (LSTM)                (None, 100, 50)           20200     \n",
      "_________________________________________________________________\n",
      "lstm_2 (LSTM)                (None, 50)                20200     \n",
      "_________________________________________________________________\n",
      "dense (Dense)                (None, 1)                 51        \n",
      "=================================================================\n",
      "Total params: 50,851\n",
      "Trainable params: 50,851\n",
      "Non-trainable params: 0\n",
      "_________________________________________________________________\n"
     ]
    }
   ],
   "source": [
    "model.summary()"
   ]
  },
  {
   "cell_type": "code",
   "execution_count": 30,
   "metadata": {
    "colab": {
     "base_uri": "https://localhost:8080/"
    },
    "id": "CQSJLVyH4ClB",
    "outputId": "8301aa4e-a76c-4633-d77d-ab9918c995c5"
   },
   "outputs": [
    {
     "name": "stdout",
     "output_type": "stream",
     "text": [
      "Epoch 1/100\n",
      "29/29 [==============================] - 11s 53ms/step - loss: 0.0228 - val_loss: 0.0038\n",
      "Epoch 2/100\n",
      "29/29 [==============================] - 0s 15ms/step - loss: 0.0048 - val_loss: 0.0013\n",
      "Epoch 3/100\n",
      "29/29 [==============================] - 0s 16ms/step - loss: 0.0031 - val_loss: 7.2317e-04\n",
      "Epoch 4/100\n",
      "29/29 [==============================] - 0s 15ms/step - loss: 0.0032 - val_loss: 0.0011\n",
      "Epoch 5/100\n",
      "29/29 [==============================] - 1s 19ms/step - loss: 0.0034 - val_loss: 6.0132e-04\n",
      "Epoch 6/100\n",
      "29/29 [==============================] - 0s 16ms/step - loss: 0.0025 - val_loss: 6.3268e-04\n",
      "Epoch 7/100\n",
      "29/29 [==============================] - 0s 16ms/step - loss: 0.0012 - val_loss: 4.7815e-04\n",
      "Epoch 8/100\n",
      "29/29 [==============================] - 1s 18ms/step - loss: 0.0028 - val_loss: 4.9027e-04\n",
      "Epoch 9/100\n",
      "29/29 [==============================] - 0s 16ms/step - loss: 0.0017 - val_loss: 0.0019\n",
      "Epoch 10/100\n",
      "29/29 [==============================] - 0s 16ms/step - loss: 0.0011 - val_loss: 4.1027e-04\n",
      "Epoch 11/100\n",
      "29/29 [==============================] - 0s 15ms/step - loss: 0.0017 - val_loss: 3.5496e-04\n",
      "Epoch 12/100\n",
      "29/29 [==============================] - 0s 15ms/step - loss: 0.0019 - val_loss: 3.7121e-04\n",
      "Epoch 13/100\n",
      "29/29 [==============================] - 0s 16ms/step - loss: 0.0016 - val_loss: 3.9073e-04\n",
      "Epoch 14/100\n",
      "29/29 [==============================] - 0s 15ms/step - loss: 0.0023 - val_loss: 3.4239e-04\n",
      "Epoch 15/100\n",
      "29/29 [==============================] - 0s 15ms/step - loss: 0.0013 - val_loss: 3.3637e-04\n",
      "Epoch 16/100\n",
      "29/29 [==============================] - 0s 15ms/step - loss: 0.0018 - val_loss: 3.6525e-04\n",
      "Epoch 17/100\n",
      "29/29 [==============================] - 0s 16ms/step - loss: 0.0021 - val_loss: 3.9814e-04\n",
      "Epoch 18/100\n",
      "29/29 [==============================] - 0s 16ms/step - loss: 8.3976e-04 - val_loss: 3.0774e-04\n",
      "Epoch 19/100\n",
      "29/29 [==============================] - 0s 15ms/step - loss: 0.0017 - val_loss: 3.6384e-04\n",
      "Epoch 20/100\n",
      "29/29 [==============================] - 0s 17ms/step - loss: 5.7859e-04 - val_loss: 3.1929e-04\n",
      "Epoch 21/100\n",
      "29/29 [==============================] - 1s 18ms/step - loss: 9.7701e-04 - val_loss: 6.2946e-04\n",
      "Epoch 22/100\n",
      "29/29 [==============================] - 1s 17ms/step - loss: 0.0012 - val_loss: 3.2528e-04\n",
      "Epoch 23/100\n",
      "29/29 [==============================] - 1s 18ms/step - loss: 0.0016 - val_loss: 3.0252e-04\n",
      "Epoch 24/100\n",
      "29/29 [==============================] - 1s 18ms/step - loss: 3.0975e-04 - val_loss: 2.3639e-04\n",
      "Epoch 25/100\n",
      "29/29 [==============================] - 1s 18ms/step - loss: 0.0010 - val_loss: 3.9685e-04\n",
      "Epoch 26/100\n",
      "29/29 [==============================] - 1s 17ms/step - loss: 3.5124e-04 - val_loss: 3.0746e-04\n",
      "Epoch 27/100\n",
      "29/29 [==============================] - 1s 18ms/step - loss: 9.5715e-04 - val_loss: 3.3534e-04\n",
      "Epoch 28/100\n",
      "29/29 [==============================] - 1s 18ms/step - loss: 2.5406e-04 - val_loss: 6.5130e-04\n",
      "Epoch 29/100\n",
      "29/29 [==============================] - 1s 18ms/step - loss: 0.0011 - val_loss: 7.3415e-04\n",
      "Epoch 30/100\n",
      "29/29 [==============================] - 0s 16ms/step - loss: 6.8298e-04 - val_loss: 2.4999e-04\n",
      "Epoch 31/100\n",
      "29/29 [==============================] - 0s 16ms/step - loss: 0.0021 - val_loss: 3.4459e-04\n",
      "Epoch 32/100\n",
      "29/29 [==============================] - 0s 17ms/step - loss: 3.4443e-04 - val_loss: 2.0657e-04\n",
      "Epoch 33/100\n",
      "29/29 [==============================] - 0s 17ms/step - loss: 0.0016 - val_loss: 2.7241e-04\n",
      "Epoch 34/100\n",
      "29/29 [==============================] - 1s 18ms/step - loss: 2.2839e-04 - val_loss: 3.4006e-04\n",
      "Epoch 35/100\n",
      "29/29 [==============================] - 1s 18ms/step - loss: 3.6944e-04 - val_loss: 2.3654e-04\n",
      "Epoch 36/100\n",
      "29/29 [==============================] - 1s 18ms/step - loss: 0.0010 - val_loss: 2.7259e-04\n",
      "Epoch 37/100\n",
      "29/29 [==============================] - 1s 18ms/step - loss: 2.5892e-04 - val_loss: 4.7657e-04\n",
      "Epoch 38/100\n",
      "29/29 [==============================] - 1s 17ms/step - loss: 9.2313e-04 - val_loss: 2.4669e-04\n",
      "Epoch 39/100\n",
      "29/29 [==============================] - 0s 16ms/step - loss: 4.9672e-04 - val_loss: 2.8592e-04\n",
      "Epoch 40/100\n",
      "29/29 [==============================] - 0s 15ms/step - loss: 5.5618e-04 - val_loss: 2.5247e-04\n",
      "Epoch 41/100\n",
      "29/29 [==============================] - 0s 15ms/step - loss: 4.8287e-04 - val_loss: 4.2240e-04\n",
      "Epoch 42/100\n",
      "29/29 [==============================] - 0s 17ms/step - loss: 8.8349e-04 - val_loss: 2.3318e-04\n",
      "Epoch 43/100\n",
      "29/29 [==============================] - 1s 18ms/step - loss: 5.0506e-04 - val_loss: 2.4835e-04\n",
      "Epoch 44/100\n",
      "29/29 [==============================] - 0s 16ms/step - loss: 2.8690e-04 - val_loss: 2.2461e-04\n",
      "Epoch 45/100\n",
      "29/29 [==============================] - 0s 15ms/step - loss: 5.4663e-04 - val_loss: 2.8657e-04\n",
      "Epoch 46/100\n",
      "29/29 [==============================] - 0s 16ms/step - loss: 5.9717e-04 - val_loss: 2.7041e-04\n",
      "Epoch 47/100\n",
      "29/29 [==============================] - 0s 15ms/step - loss: 8.1646e-04 - val_loss: 2.5671e-04\n",
      "Epoch 48/100\n",
      "29/29 [==============================] - 0s 17ms/step - loss: 4.8673e-04 - val_loss: 2.8566e-04\n",
      "Epoch 49/100\n",
      "29/29 [==============================] - 0s 16ms/step - loss: 6.1600e-04 - val_loss: 2.1912e-04\n",
      "Epoch 50/100\n",
      "29/29 [==============================] - 0s 15ms/step - loss: 0.0011 - val_loss: 2.6242e-04\n",
      "Epoch 51/100\n",
      "29/29 [==============================] - 0s 16ms/step - loss: 2.2187e-04 - val_loss: 2.1210e-04\n",
      "Epoch 52/100\n",
      "29/29 [==============================] - 0s 16ms/step - loss: 3.3697e-04 - val_loss: 2.9012e-04\n",
      "Epoch 53/100\n",
      "29/29 [==============================] - 0s 16ms/step - loss: 4.8067e-04 - val_loss: 2.3427e-04\n",
      "Epoch 54/100\n",
      "29/29 [==============================] - 0s 17ms/step - loss: 3.4674e-04 - val_loss: 4.0006e-04\n",
      "Epoch 55/100\n",
      "29/29 [==============================] - 1s 19ms/step - loss: 2.2882e-04 - val_loss: 3.3341e-04\n",
      "Epoch 56/100\n",
      "29/29 [==============================] - 1s 18ms/step - loss: 7.9468e-04 - val_loss: 2.3378e-04\n",
      "Epoch 57/100\n",
      "29/29 [==============================] - 1s 18ms/step - loss: 5.5144e-04 - val_loss: 3.2997e-04\n",
      "Epoch 58/100\n",
      "29/29 [==============================] - 1s 18ms/step - loss: 5.1408e-04 - val_loss: 1.8627e-04\n",
      "Epoch 59/100\n",
      "29/29 [==============================] - 1s 18ms/step - loss: 9.8113e-04 - val_loss: 1.9934e-04\n",
      "Epoch 60/100\n",
      "29/29 [==============================] - 1s 18ms/step - loss: 8.5557e-04 - val_loss: 1.9682e-04\n",
      "Epoch 61/100\n",
      "29/29 [==============================] - 1s 18ms/step - loss: 1.6527e-04 - val_loss: 2.5330e-04\n",
      "Epoch 62/100\n",
      "29/29 [==============================] - 1s 18ms/step - loss: 0.0011 - val_loss: 1.9077e-04\n",
      "Epoch 63/100\n",
      "29/29 [==============================] - 0s 16ms/step - loss: 0.0014 - val_loss: 2.0649e-04\n",
      "Epoch 64/100\n",
      "29/29 [==============================] - 0s 16ms/step - loss: 4.7180e-04 - val_loss: 2.1567e-04\n",
      "Epoch 65/100\n",
      "29/29 [==============================] - 0s 16ms/step - loss: 7.6605e-04 - val_loss: 2.1527e-04\n",
      "Epoch 66/100\n",
      "29/29 [==============================] - 0s 15ms/step - loss: 4.5098e-04 - val_loss: 2.1581e-04\n",
      "Epoch 67/100\n",
      "29/29 [==============================] - 0s 16ms/step - loss: 2.5635e-04 - val_loss: 2.6437e-04\n",
      "Epoch 68/100\n",
      "29/29 [==============================] - 0s 17ms/step - loss: 2.6054e-04 - val_loss: 2.1482e-04\n",
      "Epoch 69/100\n",
      "29/29 [==============================] - 0s 15ms/step - loss: 3.8358e-04 - val_loss: 2.0410e-04\n",
      "Epoch 70/100\n",
      "29/29 [==============================] - 1s 17ms/step - loss: 5.9813e-04 - val_loss: 1.8343e-04\n",
      "Epoch 71/100\n",
      "29/29 [==============================] - 1s 21ms/step - loss: 3.9963e-04 - val_loss: 2.0897e-04\n",
      "Epoch 72/100\n",
      "29/29 [==============================] - 1s 18ms/step - loss: 3.6440e-04 - val_loss: 2.5816e-04\n",
      "Epoch 73/100\n",
      "29/29 [==============================] - 0s 16ms/step - loss: 6.1526e-04 - val_loss: 2.6593e-04\n",
      "Epoch 74/100\n",
      "29/29 [==============================] - 1s 18ms/step - loss: 2.2137e-04 - val_loss: 2.8296e-04\n",
      "Epoch 75/100\n",
      "29/29 [==============================] - 1s 18ms/step - loss: 7.0203e-04 - val_loss: 2.8883e-04\n",
      "Epoch 76/100\n",
      "29/29 [==============================] - 0s 17ms/step - loss: 6.4212e-04 - val_loss: 1.8771e-04\n",
      "Epoch 77/100\n",
      "29/29 [==============================] - 0s 15ms/step - loss: 9.3258e-04 - val_loss: 1.9961e-04\n",
      "Epoch 78/100\n",
      "29/29 [==============================] - 0s 15ms/step - loss: 0.0016 - val_loss: 2.0018e-04\n",
      "Epoch 79/100\n",
      "29/29 [==============================] - 0s 16ms/step - loss: 4.2609e-04 - val_loss: 2.2629e-04\n",
      "Epoch 80/100\n",
      "29/29 [==============================] - 0s 15ms/step - loss: 1.2473e-04 - val_loss: 2.1820e-04\n",
      "Epoch 81/100\n",
      "29/29 [==============================] - 0s 16ms/step - loss: 0.0014 - val_loss: 1.9993e-04\n",
      "Epoch 82/100\n",
      "29/29 [==============================] - 0s 17ms/step - loss: 3.4760e-04 - val_loss: 1.8616e-04\n",
      "Epoch 83/100\n",
      "29/29 [==============================] - 0s 16ms/step - loss: 8.9431e-04 - val_loss: 1.9553e-04\n",
      "Epoch 84/100\n",
      "29/29 [==============================] - 0s 17ms/step - loss: 2.3872e-04 - val_loss: 1.9423e-04\n",
      "Epoch 85/100\n",
      "29/29 [==============================] - 1s 18ms/step - loss: 6.1129e-04 - val_loss: 2.1776e-04\n",
      "Epoch 86/100\n",
      "29/29 [==============================] - 0s 16ms/step - loss: 4.0562e-04 - val_loss: 2.2080e-04\n",
      "Epoch 87/100\n",
      "29/29 [==============================] - 0s 16ms/step - loss: 9.3461e-04 - val_loss: 2.1188e-04\n",
      "Epoch 88/100\n",
      "29/29 [==============================] - 0s 15ms/step - loss: 3.4939e-04 - val_loss: 5.7688e-04\n",
      "Epoch 89/100\n",
      "29/29 [==============================] - 0s 16ms/step - loss: 0.0014 - val_loss: 1.6918e-04\n",
      "Epoch 90/100\n",
      "29/29 [==============================] - 1s 18ms/step - loss: 2.2227e-04 - val_loss: 2.5922e-04\n",
      "Epoch 91/100\n",
      "29/29 [==============================] - 1s 18ms/step - loss: 1.5798e-04 - val_loss: 2.1955e-04\n",
      "Epoch 92/100\n",
      "29/29 [==============================] - 1s 18ms/step - loss: 5.5777e-04 - val_loss: 2.0921e-04\n",
      "Epoch 93/100\n",
      "29/29 [==============================] - 1s 18ms/step - loss: 4.0165e-04 - val_loss: 3.2578e-04\n",
      "Epoch 94/100\n",
      "29/29 [==============================] - 0s 17ms/step - loss: 4.6920e-04 - val_loss: 2.8605e-04\n",
      "Epoch 95/100\n",
      "29/29 [==============================] - 0s 17ms/step - loss: 3.0966e-04 - val_loss: 3.8878e-04\n",
      "Epoch 96/100\n",
      "29/29 [==============================] - 0s 16ms/step - loss: 8.2940e-04 - val_loss: 2.0427e-04\n",
      "Epoch 97/100\n",
      "29/29 [==============================] - 0s 15ms/step - loss: 5.8906e-04 - val_loss: 1.8871e-04\n",
      "Epoch 98/100\n",
      "29/29 [==============================] - 0s 15ms/step - loss: 0.0013 - val_loss: 1.5644e-04\n",
      "Epoch 99/100\n",
      "29/29 [==============================] - 0s 16ms/step - loss: 3.7292e-04 - val_loss: 2.4875e-04\n",
      "Epoch 100/100\n",
      "29/29 [==============================] - 0s 16ms/step - loss: 4.4115e-04 - val_loss: 2.0063e-04\n"
     ]
    },
    {
     "data": {
      "text/plain": [
       "<tensorflow.python.keras.callbacks.History at 0x7f31737be630>"
      ]
     },
     "execution_count": 30,
     "metadata": {
      "tags": []
     },
     "output_type": "execute_result"
    }
   ],
   "source": [
    "model.fit(X_train,y_train,validation_data=(X_test,ytest),epochs=100,batch_size=64,verbose=1)"
   ]
  },
  {
   "cell_type": "code",
   "execution_count": 31,
   "metadata": {
    "id": "y0EkGz8uBVKZ"
   },
   "outputs": [],
   "source": [
    "save_model(model, \"model.h5\")"
   ]
  },
  {
   "cell_type": "code",
   "execution_count": 32,
   "metadata": {
    "id": "NsWFvEHlBVKZ"
   },
   "outputs": [],
   "source": [
    "model = load_model(\"model.h5\")"
   ]
  },
  {
   "cell_type": "code",
   "execution_count": 33,
   "metadata": {
    "id": "bHD8eZkP4F2x"
   },
   "outputs": [],
   "source": [
    "### Lets Do the prediction and check performance metrics\n",
    "train_predict=model.predict(X_train)\n",
    "test_predict=model.predict(X_test)"
   ]
  },
  {
   "cell_type": "code",
   "execution_count": 34,
   "metadata": {
    "id": "_hegO_DQ4TVN"
   },
   "outputs": [],
   "source": [
    "##Transformback to original form\n",
    "train_predict=scaler.inverse_transform(train_predict)\n",
    "test_predict=scaler.inverse_transform(test_predict)"
   ]
  },
  {
   "cell_type": "code",
   "execution_count": 35,
   "metadata": {
    "colab": {
     "base_uri": "https://localhost:8080/"
    },
    "id": "6VrSrrMJ5UNp",
    "outputId": "f4132d1b-0233-4267-a2a5-766579158f14"
   },
   "outputs": [
    {
     "data": {
      "text/plain": [
       "3167.9128468639838"
      ]
     },
     "execution_count": 35,
     "metadata": {
      "tags": []
     },
     "output_type": "execute_result"
    }
   ],
   "source": [
    "### Calculate RMSE performance metrics\n",
    "import math\n",
    "from sklearn.metrics import mean_squared_error\n",
    "math.sqrt(mean_squared_error(y_train,train_predict))"
   ]
  },
  {
   "cell_type": "code",
   "execution_count": 36,
   "metadata": {
    "colab": {
     "base_uri": "https://localhost:8080/"
    },
    "id": "8k8VL3UK5XaY",
    "outputId": "5293172f-89f7-461e-bce8-ee026b094c1a"
   },
   "outputs": [
    {
     "data": {
      "text/plain": [
       "3326.3543895113617"
      ]
     },
     "execution_count": 36,
     "metadata": {
      "tags": []
     },
     "output_type": "execute_result"
    }
   ],
   "source": [
    "### Test Data RMSE\n",
    "math.sqrt(mean_squared_error(ytest,test_predict))"
   ]
  },
  {
   "cell_type": "code",
   "execution_count": 37,
   "metadata": {
    "colab": {
     "base_uri": "https://localhost:8080/",
     "height": 265
    },
    "id": "NVdCTE9K4GSx",
    "outputId": "146bc83a-a011-4f9f-c2a1-25abfe5753eb"
   },
   "outputs": [
    {
     "data": {
      "image/png": "[encoded data removed]",
      "text/plain": [
       "<Figure size 432x288 with 1 Axes>"
      ]
     },
     "metadata": {
      "needs_background": "light",
      "tags": []
     },
     "output_type": "display_data"
    }
   ],
   "source": [
    "### Plotting \n",
    "# shift train predictions for plotting\n",
    "look_back=100\n",
    "trainPredictPlot = numpy.empty_like(df1)\n",
    "trainPredictPlot[:, :] = np.nan\n",
    "trainPredictPlot[look_back:len(train_predict)+look_back, :] = train_predict\n",
    "# shift test predictions for plotting\n",
    "testPredictPlot = numpy.empty_like(df1)\n",
    "testPredictPlot[:, :] = numpy.nan\n",
    "testPredictPlot[len(train_predict)+(look_back*2)+1:len(df1)-1, :] = test_predict\n",
    "# plot baseline and predictions\n",
    "plt.plot(scaler.inverse_transform(df1))\n",
    "plt.plot(trainPredictPlot)\n",
    "plt.plot(testPredictPlot)\n",
    "plt.show()"
   ]
  },
  {
   "cell_type": "code",
   "execution_count": 38,
   "metadata": {
    "colab": {
     "base_uri": "https://localhost:8080/"
    },
    "id": "rV8sSqUT4HXx",
    "outputId": "be6007de-5af9-409f-bb16-516658652a99"
   },
   "outputs": [
    {
     "data": {
      "text/plain": [
       "487"
      ]
     },
     "execution_count": 38,
     "metadata": {
      "tags": []
     },
     "output_type": "execute_result"
    }
   ],
   "source": [
    "len(test_data)"
   ]
  },
  {
   "cell_type": "code",
   "execution_count": 39,
   "metadata": {
    "colab": {
     "base_uri": "https://localhost:8080/"
    },
    "id": "AGQ-beoq5kqq",
    "outputId": "615e41f7-e49a-4ce4-e039-0d91e23e550d"
   },
   "outputs": [
    {
     "data": {
      "text/plain": [
       "(1, 100)"
      ]
     },
     "execution_count": 39,
     "metadata": {
      "tags": []
     },
     "output_type": "execute_result"
    }
   ],
   "source": [
    "x_input=test_data[387:].reshape(1,-1)\n",
    "x_input.shape"
   ]
  },
  {
   "cell_type": "code",
   "execution_count": 40,
   "metadata": {
    "id": "WmomhC3c5kel"
   },
   "outputs": [],
   "source": [
    "temp_input=list(x_input)\n",
    "temp_input=temp_input[0].tolist()"
   ]
  },
  {
   "cell_type": "code",
   "execution_count": 41,
   "metadata": {
    "colab": {
     "base_uri": "https://localhost:8080/"
    },
    "id": "Bm3YOjmT5kQR",
    "outputId": "d7677e1c-ac4b-48a4-80d8-fd9a9dda801b"
   },
   "outputs": [
    {
     "data": {
      "text/plain": [
       "[0.38855552175796626,\n",
       " 0.3614606089096591,\n",
       " 0.3517729908101282,\n",
       " 0.3603775497976754,\n",
       " 0.3449197614504696,\n",
       " 0.3490031247407571,\n",
       " 0.3393385504521196,\n",
       " 0.3209910682188978,\n",
       " 0.32134594290665414,\n",
       " 0.29403441823595017,\n",
       " 0.3141470563835965,\n",
       " 0.28831033561006186,\n",
       " 0.2673496852215432,\n",
       " 0.23200047931126655,\n",
       " 0.2029422337748527,\n",
       " 0.22191189890219287,\n",
       " 0.15870272562195248,\n",
       " 0.17787978504733198,\n",
       " 0.1881481071813732,\n",
       " 0.20732977536893138,\n",
       " 0.18415691913465881,\n",
       " 0.15648591101401987,\n",
       " 0.15406170210804782,\n",
       " 0.15438892422273226,\n",
       " 0.15329664758639128,\n",
       " 0.15752288250421703,\n",
       " 0.16485542313045565,\n",
       " 0.18503719271078173,\n",
       " 0.16065223202352313,\n",
       " 0.15098765773488554,\n",
       " 0.15444883813105476,\n",
       " 0.16257408585202188,\n",
       " 0.16258330337637916,\n",
       " 0.14336476509139173,\n",
       " 0.1478352644046862,\n",
       " 0.15006590529915476,\n",
       " 0.13198112251011623,\n",
       " 0.13823060402437115,\n",
       " 0.15519545760399672,\n",
       " 0.1614956355022168,\n",
       " 0.163491229525574,\n",
       " 0.14151204269557283,\n",
       " 0.13438689636737366,\n",
       " 0.1439639041746168,\n",
       " 0.139751495543327,\n",
       " 0.13639631667726682,\n",
       " 0.13555752196075177,\n",
       " 0.14059489902202066,\n",
       " 0.14901510752242164,\n",
       " 0.14449391182516202,\n",
       " 0.14213883435186975,\n",
       " 0.12851072458958973,\n",
       " 0.1309395422577404,\n",
       " 0.13811538496990478,\n",
       " 0.13326696715796071,\n",
       " 0.1245195365428753,\n",
       " 0.11840831789398003,\n",
       " 0.12831254781590762,\n",
       " 0.12934951930610478,\n",
       " 0.12989796200536463,\n",
       " 0.14899667247370701,\n",
       " 0.16608135386997758,\n",
       " 0.17213726737272905,\n",
       " 0.16302574454552998,\n",
       " 0.17015089087372914,\n",
       " 0.18092617684742235,\n",
       " 0.1750592225939957,\n",
       " 0.17432642940758974,\n",
       " 0.16540847459189412,\n",
       " 0.17566297043939938,\n",
       " 0.16656066513655765,\n",
       " 0.16781424844915155,\n",
       " 0.17067168099991703,\n",
       " 0.18264985390223892,\n",
       " 0.19856390970513138,\n",
       " 0.21162514171943703,\n",
       " 0.22869599682917163,\n",
       " 0.22030344090184256,\n",
       " 0.226838665671174,\n",
       " 0.2174506171132557,\n",
       " 0.21325203476850185,\n",
       " 0.21076791195420735,\n",
       " 0.22209624938933903,\n",
       " 0.2230502631603204,\n",
       " 0.220031523933302,\n",
       " 0.23637419461880926,\n",
       " 0.2587866050936039,\n",
       " 0.2455225875434376,\n",
       " 0.2567633584971748,\n",
       " 0.2553023808865415,\n",
       " 0.2479698402603029,\n",
       " 0.24394639087833786,\n",
       " 0.24010268322134037,\n",
       " 0.24522301800182505,\n",
       " 0.2541179290066274,\n",
       " 0.26704089815557336,\n",
       " 0.2533021781010056,\n",
       " 0.24966586474204755,\n",
       " 0.2537953156541216,\n",
       " 0.24955986321193852]"
      ]
     },
     "execution_count": 41,
     "metadata": {
      "tags": []
     },
     "output_type": "execute_result"
    }
   ],
   "source": [
    "temp_input"
   ]
  },
  {
   "cell_type": "code",
   "execution_count": 42,
   "metadata": {
    "colab": {
     "base_uri": "https://localhost:8080/"
    },
    "id": "QDyWETWT6gtS",
    "outputId": "fd2ef4a4-e87d-43f3-8c2d-ca4e98d8bd1f"
   },
   "outputs": [
    {
     "name": "stdout",
     "output_type": "stream",
     "text": [
      "[0.24706917]\n",
      "101\n",
      "1 day input [0.36146061 0.35177299 0.36037755 0.34491976 0.34900312 0.33933855\n",
      " 0.32099107 0.32134594 0.29403442 0.31414706 0.28831034 0.26734969\n",
      " 0.23200048 0.20294223 0.2219119  0.15870273 0.17787979 0.18814811\n",
      " 0.20732978 0.18415692 0.15648591 0.1540617  0.15438892 0.15329665\n",
      " 0.15752288 0.16485542 0.18503719 0.16065223 0.15098766 0.15444884\n",
      " 0.16257409 0.1625833  0.14336477 0.14783526 0.15006591 0.13198112\n",
      " 0.1382306  0.15519546 0.16149564 0.16349123 0.14151204 0.1343869\n",
      " 0.1439639  0.1397515  0.13639632 0.13555752 0.1405949  0.14901511\n",
      " 0.14449391 0.14213883 0.12851072 0.13093954 0.13811538 0.13326697\n",
      " 0.12451954 0.11840832 0.12831255 0.12934952 0.12989796 0.14899667\n",
      " 0.16608135 0.17213727 0.16302574 0.17015089 0.18092618 0.17505922\n",
      " 0.17432643 0.16540847 0.17566297 0.16656067 0.16781425 0.17067168\n",
      " 0.18264985 0.19856391 0.21162514 0.228696   0.22030344 0.22683867\n",
      " 0.21745062 0.21325203 0.21076791 0.22209625 0.22305026 0.22003152\n",
      " 0.23637419 0.25878661 0.24552259 0.25676336 0.25530238 0.24796984\n",
      " 0.24394639 0.24010268 0.24522302 0.25411793 0.2670409  0.25330218\n",
      " 0.24966586 0.25379532 0.24955986 0.24706917]\n",
      "1 day output [[0.2451779]]\n",
      "2 day input [0.35177299 0.36037755 0.34491976 0.34900312 0.33933855 0.32099107\n",
      " 0.32134594 0.29403442 0.31414706 0.28831034 0.26734969 0.23200048\n",
      " 0.20294223 0.2219119  0.15870273 0.17787979 0.18814811 0.20732978\n",
      " 0.18415692 0.15648591 0.1540617  0.15438892 0.15329665 0.15752288\n",
      " 0.16485542 0.18503719 0.16065223 0.15098766 0.15444884 0.16257409\n",
      " 0.1625833  0.14336477 0.14783526 0.15006591 0.13198112 0.1382306\n",
      " 0.15519546 0.16149564 0.16349123 0.14151204 0.1343869  0.1439639\n",
      " 0.1397515  0.13639632 0.13555752 0.1405949  0.14901511 0.14449391\n",
      " 0.14213883 0.12851072 0.13093954 0.13811538 0.13326697 0.12451954\n",
      " 0.11840832 0.12831255 0.12934952 0.12989796 0.14899667 0.16608135\n",
      " 0.17213727 0.16302574 0.17015089 0.18092618 0.17505922 0.17432643\n",
      " 0.16540847 0.17566297 0.16656067 0.16781425 0.17067168 0.18264985\n",
      " 0.19856391 0.21162514 0.228696   0.22030344 0.22683867 0.21745062\n",
      " 0.21325203 0.21076791 0.22209625 0.22305026 0.22003152 0.23637419\n",
      " 0.25878661 0.24552259 0.25676336 0.25530238 0.24796984 0.24394639\n",
      " 0.24010268 0.24522302 0.25411793 0.2670409  0.25330218 0.24966586\n",
      " 0.25379532 0.24955986 0.24706917 0.24517789]\n",
      "2 day output [[0.24313127]]\n",
      "3 day input [0.36037755 0.34491976 0.34900312 0.33933855 0.32099107 0.32134594\n",
      " 0.29403442 0.31414706 0.28831034 0.26734969 0.23200048 0.20294223\n",
      " 0.2219119  0.15870273 0.17787979 0.18814811 0.20732978 0.18415692\n",
      " 0.15648591 0.1540617  0.15438892 0.15329665 0.15752288 0.16485542\n",
      " 0.18503719 0.16065223 0.15098766 0.15444884 0.16257409 0.1625833\n",
      " 0.14336477 0.14783526 0.15006591 0.13198112 0.1382306  0.15519546\n",
      " 0.16149564 0.16349123 0.14151204 0.1343869  0.1439639  0.1397515\n",
      " 0.13639632 0.13555752 0.1405949  0.14901511 0.14449391 0.14213883\n",
      " 0.12851072 0.13093954 0.13811538 0.13326697 0.12451954 0.11840832\n",
      " 0.12831255 0.12934952 0.12989796 0.14899667 0.16608135 0.17213727\n",
      " 0.16302574 0.17015089 0.18092618 0.17505922 0.17432643 0.16540847\n",
      " 0.17566297 0.16656067 0.16781425 0.17067168 0.18264985 0.19856391\n",
      " 0.21162514 0.228696   0.22030344 0.22683867 0.21745062 0.21325203\n",
      " 0.21076791 0.22209625 0.22305026 0.22003152 0.23637419 0.25878661\n",
      " 0.24552259 0.25676336 0.25530238 0.24796984 0.24394639 0.24010268\n",
      " 0.24522302 0.25411793 0.2670409  0.25330218 0.24966586 0.25379532\n",
      " 0.24955986 0.24706917 0.24517789 0.24313127]\n",
      "3 day output [[0.24112025]]\n",
      "4 day input [0.34491976 0.34900312 0.33933855 0.32099107 0.32134594 0.29403442\n",
      " 0.31414706 0.28831034 0.26734969 0.23200048 0.20294223 0.2219119\n",
      " 0.15870273 0.17787979 0.18814811 0.20732978 0.18415692 0.15648591\n",
      " 0.1540617  0.15438892 0.15329665 0.15752288 0.16485542 0.18503719\n",
      " 0.16065223 0.15098766 0.15444884 0.16257409 0.1625833  0.14336477\n",
      " 0.14783526 0.15006591 0.13198112 0.1382306  0.15519546 0.16149564\n",
      " 0.16349123 0.14151204 0.1343869  0.1439639  0.1397515  0.13639632\n",
      " 0.13555752 0.1405949  0.14901511 0.14449391 0.14213883 0.12851072\n",
      " 0.13093954 0.13811538 0.13326697 0.12451954 0.11840832 0.12831255\n",
      " 0.12934952 0.12989796 0.14899667 0.16608135 0.17213727 0.16302574\n",
      " 0.17015089 0.18092618 0.17505922 0.17432643 0.16540847 0.17566297\n",
      " 0.16656067 0.16781425 0.17067168 0.18264985 0.19856391 0.21162514\n",
      " 0.228696   0.22030344 0.22683867 0.21745062 0.21325203 0.21076791\n",
      " 0.22209625 0.22305026 0.22003152 0.23637419 0.25878661 0.24552259\n",
      " 0.25676336 0.25530238 0.24796984 0.24394639 0.24010268 0.24522302\n",
      " 0.25411793 0.2670409  0.25330218 0.24966586 0.25379532 0.24955986\n",
      " 0.24706917 0.24517789 0.24313127 0.24112025]\n",
      "4 day output [[0.23920192]]\n",
      "5 day input [0.34900312 0.33933855 0.32099107 0.32134594 0.29403442 0.31414706\n",
      " 0.28831034 0.26734969 0.23200048 0.20294223 0.2219119  0.15870273\n",
      " 0.17787979 0.18814811 0.20732978 0.18415692 0.15648591 0.1540617\n",
      " 0.15438892 0.15329665 0.15752288 0.16485542 0.18503719 0.16065223\n",
      " 0.15098766 0.15444884 0.16257409 0.1625833  0.14336477 0.14783526\n",
      " 0.15006591 0.13198112 0.1382306  0.15519546 0.16149564 0.16349123\n",
      " 0.14151204 0.1343869  0.1439639  0.1397515  0.13639632 0.13555752\n",
      " 0.1405949  0.14901511 0.14449391 0.14213883 0.12851072 0.13093954\n",
      " 0.13811538 0.13326697 0.12451954 0.11840832 0.12831255 0.12934952\n",
      " 0.12989796 0.14899667 0.16608135 0.17213727 0.16302574 0.17015089\n",
      " 0.18092618 0.17505922 0.17432643 0.16540847 0.17566297 0.16656067\n",
      " 0.16781425 0.17067168 0.18264985 0.19856391 0.21162514 0.228696\n",
      " 0.22030344 0.22683867 0.21745062 0.21325203 0.21076791 0.22209625\n",
      " 0.22305026 0.22003152 0.23637419 0.25878661 0.24552259 0.25676336\n",
      " 0.25530238 0.24796984 0.24394639 0.24010268 0.24522302 0.25411793\n",
      " 0.2670409  0.25330218 0.24966586 0.25379532 0.24955986 0.24706917\n",
      " 0.24517789 0.24313127 0.24112025 0.23920192]\n",
      "5 day output [[0.23738357]]\n",
      "6 day input [0.33933855 0.32099107 0.32134594 0.29403442 0.31414706 0.28831034\n",
      " 0.26734969 0.23200048 0.20294223 0.2219119  0.15870273 0.17787979\n",
      " 0.18814811 0.20732978 0.18415692 0.15648591 0.1540617  0.15438892\n",
      " 0.15329665 0.15752288 0.16485542 0.18503719 0.16065223 0.15098766\n",
      " 0.15444884 0.16257409 0.1625833  0.14336477 0.14783526 0.15006591\n",
      " 0.13198112 0.1382306  0.15519546 0.16149564 0.16349123 0.14151204\n",
      " 0.1343869  0.1439639  0.1397515  0.13639632 0.13555752 0.1405949\n",
      " 0.14901511 0.14449391 0.14213883 0.12851072 0.13093954 0.13811538\n",
      " 0.13326697 0.12451954 0.11840832 0.12831255 0.12934952 0.12989796\n",
      " 0.14899667 0.16608135 0.17213727 0.16302574 0.17015089 0.18092618\n",
      " 0.17505922 0.17432643 0.16540847 0.17566297 0.16656067 0.16781425\n",
      " 0.17067168 0.18264985 0.19856391 0.21162514 0.228696   0.22030344\n",
      " 0.22683867 0.21745062 0.21325203 0.21076791 0.22209625 0.22305026\n",
      " 0.22003152 0.23637419 0.25878661 0.24552259 0.25676336 0.25530238\n",
      " 0.24796984 0.24394639 0.24010268 0.24522302 0.25411793 0.2670409\n",
      " 0.25330218 0.24966586 0.25379532 0.24955986 0.24706917 0.24517789\n",
      " 0.24313127 0.24112025 0.23920192 0.23738357]\n",
      "6 day output [[0.23565537]]\n",
      "7 day input [0.32099107 0.32134594 0.29403442 0.31414706 0.28831034 0.26734969\n",
      " 0.23200048 0.20294223 0.2219119  0.15870273 0.17787979 0.18814811\n",
      " 0.20732978 0.18415692 0.15648591 0.1540617  0.15438892 0.15329665\n",
      " 0.15752288 0.16485542 0.18503719 0.16065223 0.15098766 0.15444884\n",
      " 0.16257409 0.1625833  0.14336477 0.14783526 0.15006591 0.13198112\n",
      " 0.1382306  0.15519546 0.16149564 0.16349123 0.14151204 0.1343869\n",
      " 0.1439639  0.1397515  0.13639632 0.13555752 0.1405949  0.14901511\n",
      " 0.14449391 0.14213883 0.12851072 0.13093954 0.13811538 0.13326697\n",
      " 0.12451954 0.11840832 0.12831255 0.12934952 0.12989796 0.14899667\n",
      " 0.16608135 0.17213727 0.16302574 0.17015089 0.18092618 0.17505922\n",
      " 0.17432643 0.16540847 0.17566297 0.16656067 0.16781425 0.17067168\n",
      " 0.18264985 0.19856391 0.21162514 0.228696   0.22030344 0.22683867\n",
      " 0.21745062 0.21325203 0.21076791 0.22209625 0.22305026 0.22003152\n",
      " 0.23637419 0.25878661 0.24552259 0.25676336 0.25530238 0.24796984\n",
      " 0.24394639 0.24010268 0.24522302 0.25411793 0.2670409  0.25330218\n",
      " 0.24966586 0.25379532 0.24955986 0.24706917 0.24517789 0.24313127\n",
      " 0.24112025 0.23920192 0.23738357 0.23565537]\n",
      "7 day output [[0.23400119]]\n",
      "8 day input [0.32134594 0.29403442 0.31414706 0.28831034 0.26734969 0.23200048\n",
      " 0.20294223 0.2219119  0.15870273 0.17787979 0.18814811 0.20732978\n",
      " 0.18415692 0.15648591 0.1540617  0.15438892 0.15329665 0.15752288\n",
      " 0.16485542 0.18503719 0.16065223 0.15098766 0.15444884 0.16257409\n",
      " 0.1625833  0.14336477 0.14783526 0.15006591 0.13198112 0.1382306\n",
      " 0.15519546 0.16149564 0.16349123 0.14151204 0.1343869  0.1439639\n",
      " 0.1397515  0.13639632 0.13555752 0.1405949  0.14901511 0.14449391\n",
      " 0.14213883 0.12851072 0.13093954 0.13811538 0.13326697 0.12451954\n",
      " 0.11840832 0.12831255 0.12934952 0.12989796 0.14899667 0.16608135\n",
      " 0.17213727 0.16302574 0.17015089 0.18092618 0.17505922 0.17432643\n",
      " 0.16540847 0.17566297 0.16656067 0.16781425 0.17067168 0.18264985\n",
      " 0.19856391 0.21162514 0.228696   0.22030344 0.22683867 0.21745062\n",
      " 0.21325203 0.21076791 0.22209625 0.22305026 0.22003152 0.23637419\n",
      " 0.25878661 0.24552259 0.25676336 0.25530238 0.24796984 0.24394639\n",
      " 0.24010268 0.24522302 0.25411793 0.2670409  0.25330218 0.24966586\n",
      " 0.25379532 0.24955986 0.24706917 0.24517789 0.24313127 0.24112025\n",
      " 0.23920192 0.23738357 0.23565537 0.23400119]\n",
      "8 day output [[0.23240216]]\n",
      "9 day input [0.29403442 0.31414706 0.28831034 0.26734969 0.23200048 0.20294223\n",
      " 0.2219119  0.15870273 0.17787979 0.18814811 0.20732978 0.18415692\n",
      " 0.15648591 0.1540617  0.15438892 0.15329665 0.15752288 0.16485542\n",
      " 0.18503719 0.16065223 0.15098766 0.15444884 0.16257409 0.1625833\n",
      " 0.14336477 0.14783526 0.15006591 0.13198112 0.1382306  0.15519546\n",
      " 0.16149564 0.16349123 0.14151204 0.1343869  0.1439639  0.1397515\n",
      " 0.13639632 0.13555752 0.1405949  0.14901511 0.14449391 0.14213883\n",
      " 0.12851072 0.13093954 0.13811538 0.13326697 0.12451954 0.11840832\n",
      " 0.12831255 0.12934952 0.12989796 0.14899667 0.16608135 0.17213727\n",
      " 0.16302574 0.17015089 0.18092618 0.17505922 0.17432643 0.16540847\n",
      " 0.17566297 0.16656067 0.16781425 0.17067168 0.18264985 0.19856391\n",
      " 0.21162514 0.228696   0.22030344 0.22683867 0.21745062 0.21325203\n",
      " 0.21076791 0.22209625 0.22305026 0.22003152 0.23637419 0.25878661\n",
      " 0.24552259 0.25676336 0.25530238 0.24796984 0.24394639 0.24010268\n",
      " 0.24522302 0.25411793 0.2670409  0.25330218 0.24966586 0.25379532\n",
      " 0.24955986 0.24706917 0.24517789 0.24313127 0.24112025 0.23920192\n",
      " 0.23738357 0.23565537 0.23400119 0.23240216]\n",
      "9 day output [[0.23083873]]\n",
      "10 day input [0.31414706 0.28831034 0.26734969 0.23200048 0.20294223 0.2219119\n",
      " 0.15870273 0.17787979 0.18814811 0.20732978 0.18415692 0.15648591\n",
      " 0.1540617  0.15438892 0.15329665 0.15752288 0.16485542 0.18503719\n",
      " 0.16065223 0.15098766 0.15444884 0.16257409 0.1625833  0.14336477\n",
      " 0.14783526 0.15006591 0.13198112 0.1382306  0.15519546 0.16149564\n",
      " 0.16349123 0.14151204 0.1343869  0.1439639  0.1397515  0.13639632\n",
      " 0.13555752 0.1405949  0.14901511 0.14449391 0.14213883 0.12851072\n",
      " 0.13093954 0.13811538 0.13326697 0.12451954 0.11840832 0.12831255\n",
      " 0.12934952 0.12989796 0.14899667 0.16608135 0.17213727 0.16302574\n",
      " 0.17015089 0.18092618 0.17505922 0.17432643 0.16540847 0.17566297\n",
      " 0.16656067 0.16781425 0.17067168 0.18264985 0.19856391 0.21162514\n",
      " 0.228696   0.22030344 0.22683867 0.21745062 0.21325203 0.21076791\n",
      " 0.22209625 0.22305026 0.22003152 0.23637419 0.25878661 0.24552259\n",
      " 0.25676336 0.25530238 0.24796984 0.24394639 0.24010268 0.24522302\n",
      " 0.25411793 0.2670409  0.25330218 0.24966586 0.25379532 0.24955986\n",
      " 0.24706917 0.24517789 0.24313127 0.24112025 0.23920192 0.23738357\n",
      " 0.23565537 0.23400119 0.23240216 0.23083873]\n",
      "10 day output [[0.22929215]]\n",
      "11 day input [0.28831034 0.26734969 0.23200048 0.20294223 0.2219119  0.15870273\n",
      " 0.17787979 0.18814811 0.20732978 0.18415692 0.15648591 0.1540617\n",
      " 0.15438892 0.15329665 0.15752288 0.16485542 0.18503719 0.16065223\n",
      " 0.15098766 0.15444884 0.16257409 0.1625833  0.14336477 0.14783526\n",
      " 0.15006591 0.13198112 0.1382306  0.15519546 0.16149564 0.16349123\n",
      " 0.14151204 0.1343869  0.1439639  0.1397515  0.13639632 0.13555752\n",
      " 0.1405949  0.14901511 0.14449391 0.14213883 0.12851072 0.13093954\n",
      " 0.13811538 0.13326697 0.12451954 0.11840832 0.12831255 0.12934952\n",
      " 0.12989796 0.14899667 0.16608135 0.17213727 0.16302574 0.17015089\n",
      " 0.18092618 0.17505922 0.17432643 0.16540847 0.17566297 0.16656067\n",
      " 0.16781425 0.17067168 0.18264985 0.19856391 0.21162514 0.228696\n",
      " 0.22030344 0.22683867 0.21745062 0.21325203 0.21076791 0.22209625\n",
      " 0.22305026 0.22003152 0.23637419 0.25878661 0.24552259 0.25676336\n",
      " 0.25530238 0.24796984 0.24394639 0.24010268 0.24522302 0.25411793\n",
      " 0.2670409  0.25330218 0.24966586 0.25379532 0.24955986 0.24706917\n",
      " 0.24517789 0.24313127 0.24112025 0.23920192 0.23738357 0.23565537\n",
      " 0.23400119 0.23240216 0.23083873 0.22929215]\n",
      "11 day output [[0.22774538]]\n",
      "12 day input [0.26734969 0.23200048 0.20294223 0.2219119  0.15870273 0.17787979\n",
      " 0.18814811 0.20732978 0.18415692 0.15648591 0.1540617  0.15438892\n",
      " 0.15329665 0.15752288 0.16485542 0.18503719 0.16065223 0.15098766\n",
      " 0.15444884 0.16257409 0.1625833  0.14336477 0.14783526 0.15006591\n",
      " 0.13198112 0.1382306  0.15519546 0.16149564 0.16349123 0.14151204\n",
      " 0.1343869  0.1439639  0.1397515  0.13639632 0.13555752 0.1405949\n",
      " 0.14901511 0.14449391 0.14213883 0.12851072 0.13093954 0.13811538\n",
      " 0.13326697 0.12451954 0.11840832 0.12831255 0.12934952 0.12989796\n",
      " 0.14899667 0.16608135 0.17213727 0.16302574 0.17015089 0.18092618\n",
      " 0.17505922 0.17432643 0.16540847 0.17566297 0.16656067 0.16781425\n",
      " 0.17067168 0.18264985 0.19856391 0.21162514 0.228696   0.22030344\n",
      " 0.22683867 0.21745062 0.21325203 0.21076791 0.22209625 0.22305026\n",
      " 0.22003152 0.23637419 0.25878661 0.24552259 0.25676336 0.25530238\n",
      " 0.24796984 0.24394639 0.24010268 0.24522302 0.25411793 0.2670409\n",
      " 0.25330218 0.24966586 0.25379532 0.24955986 0.24706917 0.24517789\n",
      " 0.24313127 0.24112025 0.23920192 0.23738357 0.23565537 0.23400119\n",
      " 0.23240216 0.23083873 0.22929215 0.22774538]\n",
      "12 day output [[0.22618374]]\n",
      "13 day input [0.23200048 0.20294223 0.2219119  0.15870273 0.17787979 0.18814811\n",
      " 0.20732978 0.18415692 0.15648591 0.1540617  0.15438892 0.15329665\n",
      " 0.15752288 0.16485542 0.18503719 0.16065223 0.15098766 0.15444884\n",
      " 0.16257409 0.1625833  0.14336477 0.14783526 0.15006591 0.13198112\n",
      " 0.1382306  0.15519546 0.16149564 0.16349123 0.14151204 0.1343869\n",
      " 0.1439639  0.1397515  0.13639632 0.13555752 0.1405949  0.14901511\n",
      " 0.14449391 0.14213883 0.12851072 0.13093954 0.13811538 0.13326697\n",
      " 0.12451954 0.11840832 0.12831255 0.12934952 0.12989796 0.14899667\n",
      " 0.16608135 0.17213727 0.16302574 0.17015089 0.18092618 0.17505922\n",
      " 0.17432643 0.16540847 0.17566297 0.16656067 0.16781425 0.17067168\n",
      " 0.18264985 0.19856391 0.21162514 0.228696   0.22030344 0.22683867\n",
      " 0.21745062 0.21325203 0.21076791 0.22209625 0.22305026 0.22003152\n",
      " 0.23637419 0.25878661 0.24552259 0.25676336 0.25530238 0.24796984\n",
      " 0.24394639 0.24010268 0.24522302 0.25411793 0.2670409  0.25330218\n",
      " 0.24966586 0.25379532 0.24955986 0.24706917 0.24517789 0.24313127\n",
      " 0.24112025 0.23920192 0.23738357 0.23565537 0.23400119 0.23240216\n",
      " 0.23083873 0.22929215 0.22774538 0.22618374]\n",
      "13 day output [[0.22459528]]\n",
      "14 day input [0.20294223 0.2219119  0.15870273 0.17787979 0.18814811 0.20732978\n",
      " 0.18415692 0.15648591 0.1540617  0.15438892 0.15329665 0.15752288\n",
      " 0.16485542 0.18503719 0.16065223 0.15098766 0.15444884 0.16257409\n",
      " 0.1625833  0.14336477 0.14783526 0.15006591 0.13198112 0.1382306\n",
      " 0.15519546 0.16149564 0.16349123 0.14151204 0.1343869  0.1439639\n",
      " 0.1397515  0.13639632 0.13555752 0.1405949  0.14901511 0.14449391\n",
      " 0.14213883 0.12851072 0.13093954 0.13811538 0.13326697 0.12451954\n",
      " 0.11840832 0.12831255 0.12934952 0.12989796 0.14899667 0.16608135\n",
      " 0.17213727 0.16302574 0.17015089 0.18092618 0.17505922 0.17432643\n",
      " 0.16540847 0.17566297 0.16656067 0.16781425 0.17067168 0.18264985\n",
      " 0.19856391 0.21162514 0.228696   0.22030344 0.22683867 0.21745062\n",
      " 0.21325203 0.21076791 0.22209625 0.22305026 0.22003152 0.23637419\n",
      " 0.25878661 0.24552259 0.25676336 0.25530238 0.24796984 0.24394639\n",
      " 0.24010268 0.24522302 0.25411793 0.2670409  0.25330218 0.24966586\n",
      " 0.25379532 0.24955986 0.24706917 0.24517789 0.24313127 0.24112025\n",
      " 0.23920192 0.23738357 0.23565537 0.23400119 0.23240216 0.23083873\n",
      " 0.22929215 0.22774538 0.22618374 0.22459528]\n",
      "14 day output [[0.222971]]\n",
      "15 day input [0.2219119  0.15870273 0.17787979 0.18814811 0.20732978 0.18415692\n",
      " 0.15648591 0.1540617  0.15438892 0.15329665 0.15752288 0.16485542\n",
      " 0.18503719 0.16065223 0.15098766 0.15444884 0.16257409 0.1625833\n",
      " 0.14336477 0.14783526 0.15006591 0.13198112 0.1382306  0.15519546\n",
      " 0.16149564 0.16349123 0.14151204 0.1343869  0.1439639  0.1397515\n",
      " 0.13639632 0.13555752 0.1405949  0.14901511 0.14449391 0.14213883\n",
      " 0.12851072 0.13093954 0.13811538 0.13326697 0.12451954 0.11840832\n",
      " 0.12831255 0.12934952 0.12989796 0.14899667 0.16608135 0.17213727\n",
      " 0.16302574 0.17015089 0.18092618 0.17505922 0.17432643 0.16540847\n",
      " 0.17566297 0.16656067 0.16781425 0.17067168 0.18264985 0.19856391\n",
      " 0.21162514 0.228696   0.22030344 0.22683867 0.21745062 0.21325203\n",
      " 0.21076791 0.22209625 0.22305026 0.22003152 0.23637419 0.25878661\n",
      " 0.24552259 0.25676336 0.25530238 0.24796984 0.24394639 0.24010268\n",
      " 0.24522302 0.25411793 0.2670409  0.25330218 0.24966586 0.25379532\n",
      " 0.24955986 0.24706917 0.24517789 0.24313127 0.24112025 0.23920192\n",
      " 0.23738357 0.23565537 0.23400119 0.23240216 0.23083873 0.22929215\n",
      " 0.22774538 0.22618374 0.22459528 0.22297101]\n",
      "15 day output [[0.22130488]]\n",
      "16 day input [0.15870273 0.17787979 0.18814811 0.20732978 0.18415692 0.15648591\n",
      " 0.1540617  0.15438892 0.15329665 0.15752288 0.16485542 0.18503719\n",
      " 0.16065223 0.15098766 0.15444884 0.16257409 0.1625833  0.14336477\n",
      " 0.14783526 0.15006591 0.13198112 0.1382306  0.15519546 0.16149564\n",
      " 0.16349123 0.14151204 0.1343869  0.1439639  0.1397515  0.13639632\n",
      " 0.13555752 0.1405949  0.14901511 0.14449391 0.14213883 0.12851072\n",
      " 0.13093954 0.13811538 0.13326697 0.12451954 0.11840832 0.12831255\n",
      " 0.12934952 0.12989796 0.14899667 0.16608135 0.17213727 0.16302574\n",
      " 0.17015089 0.18092618 0.17505922 0.17432643 0.16540847 0.17566297\n",
      " 0.16656067 0.16781425 0.17067168 0.18264985 0.19856391 0.21162514\n",
      " 0.228696   0.22030344 0.22683867 0.21745062 0.21325203 0.21076791\n",
      " 0.22209625 0.22305026 0.22003152 0.23637419 0.25878661 0.24552259\n",
      " 0.25676336 0.25530238 0.24796984 0.24394639 0.24010268 0.24522302\n",
      " 0.25411793 0.2670409  0.25330218 0.24966586 0.25379532 0.24955986\n",
      " 0.24706917 0.24517789 0.24313127 0.24112025 0.23920192 0.23738357\n",
      " 0.23565537 0.23400119 0.23240216 0.23083873 0.22929215 0.22774538\n",
      " 0.22618374 0.22459528 0.22297101 0.22130488]\n",
      "16 day output [[0.2195936]]\n",
      "17 day input [0.17787979 0.18814811 0.20732978 0.18415692 0.15648591 0.1540617\n",
      " 0.15438892 0.15329665 0.15752288 0.16485542 0.18503719 0.16065223\n",
      " 0.15098766 0.15444884 0.16257409 0.1625833  0.14336477 0.14783526\n",
      " 0.15006591 0.13198112 0.1382306  0.15519546 0.16149564 0.16349123\n",
      " 0.14151204 0.1343869  0.1439639  0.1397515  0.13639632 0.13555752\n",
      " 0.1405949  0.14901511 0.14449391 0.14213883 0.12851072 0.13093954\n",
      " 0.13811538 0.13326697 0.12451954 0.11840832 0.12831255 0.12934952\n",
      " 0.12989796 0.14899667 0.16608135 0.17213727 0.16302574 0.17015089\n",
      " 0.18092618 0.17505922 0.17432643 0.16540847 0.17566297 0.16656067\n",
      " 0.16781425 0.17067168 0.18264985 0.19856391 0.21162514 0.228696\n",
      " 0.22030344 0.22683867 0.21745062 0.21325203 0.21076791 0.22209625\n",
      " 0.22305026 0.22003152 0.23637419 0.25878661 0.24552259 0.25676336\n",
      " 0.25530238 0.24796984 0.24394639 0.24010268 0.24522302 0.25411793\n",
      " 0.2670409  0.25330218 0.24966586 0.25379532 0.24955986 0.24706917\n",
      " 0.24517789 0.24313127 0.24112025 0.23920192 0.23738357 0.23565537\n",
      " 0.23400119 0.23240216 0.23083873 0.22929215 0.22774538 0.22618374\n",
      " 0.22459528 0.22297101 0.22130488 0.2195936 ]\n",
      "17 day output [[0.21783644]]\n",
      "18 day input [0.18814811 0.20732978 0.18415692 0.15648591 0.1540617  0.15438892\n",
      " 0.15329665 0.15752288 0.16485542 0.18503719 0.16065223 0.15098766\n",
      " 0.15444884 0.16257409 0.1625833  0.14336477 0.14783526 0.15006591\n",
      " 0.13198112 0.1382306  0.15519546 0.16149564 0.16349123 0.14151204\n",
      " 0.1343869  0.1439639  0.1397515  0.13639632 0.13555752 0.1405949\n",
      " 0.14901511 0.14449391 0.14213883 0.12851072 0.13093954 0.13811538\n",
      " 0.13326697 0.12451954 0.11840832 0.12831255 0.12934952 0.12989796\n",
      " 0.14899667 0.16608135 0.17213727 0.16302574 0.17015089 0.18092618\n",
      " 0.17505922 0.17432643 0.16540847 0.17566297 0.16656067 0.16781425\n",
      " 0.17067168 0.18264985 0.19856391 0.21162514 0.228696   0.22030344\n",
      " 0.22683867 0.21745062 0.21325203 0.21076791 0.22209625 0.22305026\n",
      " 0.22003152 0.23637419 0.25878661 0.24552259 0.25676336 0.25530238\n",
      " 0.24796984 0.24394639 0.24010268 0.24522302 0.25411793 0.2670409\n",
      " 0.25330218 0.24966586 0.25379532 0.24955986 0.24706917 0.24517789\n",
      " 0.24313127 0.24112025 0.23920192 0.23738357 0.23565537 0.23400119\n",
      " 0.23240216 0.23083873 0.22929215 0.22774538 0.22618374 0.22459528\n",
      " 0.22297101 0.22130488 0.2195936  0.21783644]\n",
      "18 day output [[0.21603489]]\n",
      "19 day input [0.20732978 0.18415692 0.15648591 0.1540617  0.15438892 0.15329665\n",
      " 0.15752288 0.16485542 0.18503719 0.16065223 0.15098766 0.15444884\n",
      " 0.16257409 0.1625833  0.14336477 0.14783526 0.15006591 0.13198112\n",
      " 0.1382306  0.15519546 0.16149564 0.16349123 0.14151204 0.1343869\n",
      " 0.1439639  0.1397515  0.13639632 0.13555752 0.1405949  0.14901511\n",
      " 0.14449391 0.14213883 0.12851072 0.13093954 0.13811538 0.13326697\n",
      " 0.12451954 0.11840832 0.12831255 0.12934952 0.12989796 0.14899667\n",
      " 0.16608135 0.17213727 0.16302574 0.17015089 0.18092618 0.17505922\n",
      " 0.17432643 0.16540847 0.17566297 0.16656067 0.16781425 0.17067168\n",
      " 0.18264985 0.19856391 0.21162514 0.228696   0.22030344 0.22683867\n",
      " 0.21745062 0.21325203 0.21076791 0.22209625 0.22305026 0.22003152\n",
      " 0.23637419 0.25878661 0.24552259 0.25676336 0.25530238 0.24796984\n",
      " 0.24394639 0.24010268 0.24522302 0.25411793 0.2670409  0.25330218\n",
      " 0.24966586 0.25379532 0.24955986 0.24706917 0.24517789 0.24313127\n",
      " 0.24112025 0.23920192 0.23738357 0.23565537 0.23400119 0.23240216\n",
      " 0.23083873 0.22929215 0.22774538 0.22618374 0.22459528 0.22297101\n",
      " 0.22130488 0.2195936  0.21783644 0.21603489]\n",
      "19 day output [[0.21419223]]\n",
      "20 day input [0.18415692 0.15648591 0.1540617  0.15438892 0.15329665 0.15752288\n",
      " 0.16485542 0.18503719 0.16065223 0.15098766 0.15444884 0.16257409\n",
      " 0.1625833  0.14336477 0.14783526 0.15006591 0.13198112 0.1382306\n",
      " 0.15519546 0.16149564 0.16349123 0.14151204 0.1343869  0.1439639\n",
      " 0.1397515  0.13639632 0.13555752 0.1405949  0.14901511 0.14449391\n",
      " 0.14213883 0.12851072 0.13093954 0.13811538 0.13326697 0.12451954\n",
      " 0.11840832 0.12831255 0.12934952 0.12989796 0.14899667 0.16608135\n",
      " 0.17213727 0.16302574 0.17015089 0.18092618 0.17505922 0.17432643\n",
      " 0.16540847 0.17566297 0.16656067 0.16781425 0.17067168 0.18264985\n",
      " 0.19856391 0.21162514 0.228696   0.22030344 0.22683867 0.21745062\n",
      " 0.21325203 0.21076791 0.22209625 0.22305026 0.22003152 0.23637419\n",
      " 0.25878661 0.24552259 0.25676336 0.25530238 0.24796984 0.24394639\n",
      " 0.24010268 0.24522302 0.25411793 0.2670409  0.25330218 0.24966586\n",
      " 0.25379532 0.24955986 0.24706917 0.24517789 0.24313127 0.24112025\n",
      " 0.23920192 0.23738357 0.23565537 0.23400119 0.23240216 0.23083873\n",
      " 0.22929215 0.22774538 0.22618374 0.22459528 0.22297101 0.22130488\n",
      " 0.2195936  0.21783644 0.21603489 0.21419223]\n",
      "20 day output [[0.21231309]]\n",
      "21 day input [0.15648591 0.1540617  0.15438892 0.15329665 0.15752288 0.16485542\n",
      " 0.18503719 0.16065223 0.15098766 0.15444884 0.16257409 0.1625833\n",
      " 0.14336477 0.14783526 0.15006591 0.13198112 0.1382306  0.15519546\n",
      " 0.16149564 0.16349123 0.14151204 0.1343869  0.1439639  0.1397515\n",
      " 0.13639632 0.13555752 0.1405949  0.14901511 0.14449391 0.14213883\n",
      " 0.12851072 0.13093954 0.13811538 0.13326697 0.12451954 0.11840832\n",
      " 0.12831255 0.12934952 0.12989796 0.14899667 0.16608135 0.17213727\n",
      " 0.16302574 0.17015089 0.18092618 0.17505922 0.17432643 0.16540847\n",
      " 0.17566297 0.16656067 0.16781425 0.17067168 0.18264985 0.19856391\n",
      " 0.21162514 0.228696   0.22030344 0.22683867 0.21745062 0.21325203\n",
      " 0.21076791 0.22209625 0.22305026 0.22003152 0.23637419 0.25878661\n",
      " 0.24552259 0.25676336 0.25530238 0.24796984 0.24394639 0.24010268\n",
      " 0.24522302 0.25411793 0.2670409  0.25330218 0.24966586 0.25379532\n",
      " 0.24955986 0.24706917 0.24517789 0.24313127 0.24112025 0.23920192\n",
      " 0.23738357 0.23565537 0.23400119 0.23240216 0.23083873 0.22929215\n",
      " 0.22774538 0.22618374 0.22459528 0.22297101 0.22130488 0.2195936\n",
      " 0.21783644 0.21603489 0.21419223 0.21231309]\n",
      "21 day output [[0.21040305]]\n",
      "22 day input [0.1540617  0.15438892 0.15329665 0.15752288 0.16485542 0.18503719\n",
      " 0.16065223 0.15098766 0.15444884 0.16257409 0.1625833  0.14336477\n",
      " 0.14783526 0.15006591 0.13198112 0.1382306  0.15519546 0.16149564\n",
      " 0.16349123 0.14151204 0.1343869  0.1439639  0.1397515  0.13639632\n",
      " 0.13555752 0.1405949  0.14901511 0.14449391 0.14213883 0.12851072\n",
      " 0.13093954 0.13811538 0.13326697 0.12451954 0.11840832 0.12831255\n",
      " 0.12934952 0.12989796 0.14899667 0.16608135 0.17213727 0.16302574\n",
      " 0.17015089 0.18092618 0.17505922 0.17432643 0.16540847 0.17566297\n",
      " 0.16656067 0.16781425 0.17067168 0.18264985 0.19856391 0.21162514\n",
      " 0.228696   0.22030344 0.22683867 0.21745062 0.21325203 0.21076791\n",
      " 0.22209625 0.22305026 0.22003152 0.23637419 0.25878661 0.24552259\n",
      " 0.25676336 0.25530238 0.24796984 0.24394639 0.24010268 0.24522302\n",
      " 0.25411793 0.2670409  0.25330218 0.24966586 0.25379532 0.24955986\n",
      " 0.24706917 0.24517789 0.24313127 0.24112025 0.23920192 0.23738357\n",
      " 0.23565537 0.23400119 0.23240216 0.23083873 0.22929215 0.22774538\n",
      " 0.22618374 0.22459528 0.22297101 0.22130488 0.2195936  0.21783644\n",
      " 0.21603489 0.21419223 0.21231309 0.21040305]\n",
      "22 day output [[0.20846818]]\n",
      "23 day input [0.15438892 0.15329665 0.15752288 0.16485542 0.18503719 0.16065223\n",
      " 0.15098766 0.15444884 0.16257409 0.1625833  0.14336477 0.14783526\n",
      " 0.15006591 0.13198112 0.1382306  0.15519546 0.16149564 0.16349123\n",
      " 0.14151204 0.1343869  0.1439639  0.1397515  0.13639632 0.13555752\n",
      " 0.1405949  0.14901511 0.14449391 0.14213883 0.12851072 0.13093954\n",
      " 0.13811538 0.13326697 0.12451954 0.11840832 0.12831255 0.12934952\n",
      " 0.12989796 0.14899667 0.16608135 0.17213727 0.16302574 0.17015089\n",
      " 0.18092618 0.17505922 0.17432643 0.16540847 0.17566297 0.16656067\n",
      " 0.16781425 0.17067168 0.18264985 0.19856391 0.21162514 0.228696\n",
      " 0.22030344 0.22683867 0.21745062 0.21325203 0.21076791 0.22209625\n",
      " 0.22305026 0.22003152 0.23637419 0.25878661 0.24552259 0.25676336\n",
      " 0.25530238 0.24796984 0.24394639 0.24010268 0.24522302 0.25411793\n",
      " 0.2670409  0.25330218 0.24966586 0.25379532 0.24955986 0.24706917\n",
      " 0.24517789 0.24313127 0.24112025 0.23920192 0.23738357 0.23565537\n",
      " 0.23400119 0.23240216 0.23083873 0.22929215 0.22774538 0.22618374\n",
      " 0.22459528 0.22297101 0.22130488 0.2195936  0.21783644 0.21603489\n",
      " 0.21419223 0.21231309 0.21040305 0.20846818]\n",
      "23 day output [[0.2065147]]\n",
      "24 day input [0.15329665 0.15752288 0.16485542 0.18503719 0.16065223 0.15098766\n",
      " 0.15444884 0.16257409 0.1625833  0.14336477 0.14783526 0.15006591\n",
      " 0.13198112 0.1382306  0.15519546 0.16149564 0.16349123 0.14151204\n",
      " 0.1343869  0.1439639  0.1397515  0.13639632 0.13555752 0.1405949\n",
      " 0.14901511 0.14449391 0.14213883 0.12851072 0.13093954 0.13811538\n",
      " 0.13326697 0.12451954 0.11840832 0.12831255 0.12934952 0.12989796\n",
      " 0.14899667 0.16608135 0.17213727 0.16302574 0.17015089 0.18092618\n",
      " 0.17505922 0.17432643 0.16540847 0.17566297 0.16656067 0.16781425\n",
      " 0.17067168 0.18264985 0.19856391 0.21162514 0.228696   0.22030344\n",
      " 0.22683867 0.21745062 0.21325203 0.21076791 0.22209625 0.22305026\n",
      " 0.22003152 0.23637419 0.25878661 0.24552259 0.25676336 0.25530238\n",
      " 0.24796984 0.24394639 0.24010268 0.24522302 0.25411793 0.2670409\n",
      " 0.25330218 0.24966586 0.25379532 0.24955986 0.24706917 0.24517789\n",
      " 0.24313127 0.24112025 0.23920192 0.23738357 0.23565537 0.23400119\n",
      " 0.23240216 0.23083873 0.22929215 0.22774538 0.22618374 0.22459528\n",
      " 0.22297101 0.22130488 0.2195936  0.21783644 0.21603489 0.21419223\n",
      " 0.21231309 0.21040305 0.20846818 0.2065147 ]\n",
      "24 day output [[0.20454846]]\n",
      "25 day input [0.15752288 0.16485542 0.18503719 0.16065223 0.15098766 0.15444884\n",
      " 0.16257409 0.1625833  0.14336477 0.14783526 0.15006591 0.13198112\n",
      " 0.1382306  0.15519546 0.16149564 0.16349123 0.14151204 0.1343869\n",
      " 0.1439639  0.1397515  0.13639632 0.13555752 0.1405949  0.14901511\n",
      " 0.14449391 0.14213883 0.12851072 0.13093954 0.13811538 0.13326697\n",
      " 0.12451954 0.11840832 0.12831255 0.12934952 0.12989796 0.14899667\n",
      " 0.16608135 0.17213727 0.16302574 0.17015089 0.18092618 0.17505922\n",
      " 0.17432643 0.16540847 0.17566297 0.16656067 0.16781425 0.17067168\n",
      " 0.18264985 0.19856391 0.21162514 0.228696   0.22030344 0.22683867\n",
      " 0.21745062 0.21325203 0.21076791 0.22209625 0.22305026 0.22003152\n",
      " 0.23637419 0.25878661 0.24552259 0.25676336 0.25530238 0.24796984\n",
      " 0.24394639 0.24010268 0.24522302 0.25411793 0.2670409  0.25330218\n",
      " 0.24966586 0.25379532 0.24955986 0.24706917 0.24517789 0.24313127\n",
      " 0.24112025 0.23920192 0.23738357 0.23565537 0.23400119 0.23240216\n",
      " 0.23083873 0.22929215 0.22774538 0.22618374 0.22459528 0.22297101\n",
      " 0.22130488 0.2195936  0.21783644 0.21603489 0.21419223 0.21231309\n",
      " 0.21040305 0.20846818 0.2065147  0.20454846]\n",
      "25 day output [[0.20257491]]\n",
      "26 day input [0.16485542 0.18503719 0.16065223 0.15098766 0.15444884 0.16257409\n",
      " 0.1625833  0.14336477 0.14783526 0.15006591 0.13198112 0.1382306\n",
      " 0.15519546 0.16149564 0.16349123 0.14151204 0.1343869  0.1439639\n",
      " 0.1397515  0.13639632 0.13555752 0.1405949  0.14901511 0.14449391\n",
      " 0.14213883 0.12851072 0.13093954 0.13811538 0.13326697 0.12451954\n",
      " 0.11840832 0.12831255 0.12934952 0.12989796 0.14899667 0.16608135\n",
      " 0.17213727 0.16302574 0.17015089 0.18092618 0.17505922 0.17432643\n",
      " 0.16540847 0.17566297 0.16656067 0.16781425 0.17067168 0.18264985\n",
      " 0.19856391 0.21162514 0.228696   0.22030344 0.22683867 0.21745062\n",
      " 0.21325203 0.21076791 0.22209625 0.22305026 0.22003152 0.23637419\n",
      " 0.25878661 0.24552259 0.25676336 0.25530238 0.24796984 0.24394639\n",
      " 0.24010268 0.24522302 0.25411793 0.2670409  0.25330218 0.24966586\n",
      " 0.25379532 0.24955986 0.24706917 0.24517789 0.24313127 0.24112025\n",
      " 0.23920192 0.23738357 0.23565537 0.23400119 0.23240216 0.23083873\n",
      " 0.22929215 0.22774538 0.22618374 0.22459528 0.22297101 0.22130488\n",
      " 0.2195936  0.21783644 0.21603489 0.21419223 0.21231309 0.21040305\n",
      " 0.20846818 0.2065147  0.20454846 0.20257491]\n",
      "26 day output [[0.2005987]]\n",
      "27 day input [0.18503719 0.16065223 0.15098766 0.15444884 0.16257409 0.1625833\n",
      " 0.14336477 0.14783526 0.15006591 0.13198112 0.1382306  0.15519546\n",
      " 0.16149564 0.16349123 0.14151204 0.1343869  0.1439639  0.1397515\n",
      " 0.13639632 0.13555752 0.1405949  0.14901511 0.14449391 0.14213883\n",
      " 0.12851072 0.13093954 0.13811538 0.13326697 0.12451954 0.11840832\n",
      " 0.12831255 0.12934952 0.12989796 0.14899667 0.16608135 0.17213727\n",
      " 0.16302574 0.17015089 0.18092618 0.17505922 0.17432643 0.16540847\n",
      " 0.17566297 0.16656067 0.16781425 0.17067168 0.18264985 0.19856391\n",
      " 0.21162514 0.228696   0.22030344 0.22683867 0.21745062 0.21325203\n",
      " 0.21076791 0.22209625 0.22305026 0.22003152 0.23637419 0.25878661\n",
      " 0.24552259 0.25676336 0.25530238 0.24796984 0.24394639 0.24010268\n",
      " 0.24522302 0.25411793 0.2670409  0.25330218 0.24966586 0.25379532\n",
      " 0.24955986 0.24706917 0.24517789 0.24313127 0.24112025 0.23920192\n",
      " 0.23738357 0.23565537 0.23400119 0.23240216 0.23083873 0.22929215\n",
      " 0.22774538 0.22618374 0.22459528 0.22297101 0.22130488 0.2195936\n",
      " 0.21783644 0.21603489 0.21419223 0.21231309 0.21040305 0.20846818\n",
      " 0.2065147  0.20454846 0.20257491 0.2005987 ]\n",
      "27 day output [[0.19862372]]\n",
      "28 day input [0.16065223 0.15098766 0.15444884 0.16257409 0.1625833  0.14336477\n",
      " 0.14783526 0.15006591 0.13198112 0.1382306  0.15519546 0.16149564\n",
      " 0.16349123 0.14151204 0.1343869  0.1439639  0.1397515  0.13639632\n",
      " 0.13555752 0.1405949  0.14901511 0.14449391 0.14213883 0.12851072\n",
      " 0.13093954 0.13811538 0.13326697 0.12451954 0.11840832 0.12831255\n",
      " 0.12934952 0.12989796 0.14899667 0.16608135 0.17213727 0.16302574\n",
      " 0.17015089 0.18092618 0.17505922 0.17432643 0.16540847 0.17566297\n",
      " 0.16656067 0.16781425 0.17067168 0.18264985 0.19856391 0.21162514\n",
      " 0.228696   0.22030344 0.22683867 0.21745062 0.21325203 0.21076791\n",
      " 0.22209625 0.22305026 0.22003152 0.23637419 0.25878661 0.24552259\n",
      " 0.25676336 0.25530238 0.24796984 0.24394639 0.24010268 0.24522302\n",
      " 0.25411793 0.2670409  0.25330218 0.24966586 0.25379532 0.24955986\n",
      " 0.24706917 0.24517789 0.24313127 0.24112025 0.23920192 0.23738357\n",
      " 0.23565537 0.23400119 0.23240216 0.23083873 0.22929215 0.22774538\n",
      " 0.22618374 0.22459528 0.22297101 0.22130488 0.2195936  0.21783644\n",
      " 0.21603489 0.21419223 0.21231309 0.21040305 0.20846818 0.2065147\n",
      " 0.20454846 0.20257491 0.2005987  0.19862372]\n",
      "28 day output [[0.19665284]]\n",
      "29 day input [0.15098766 0.15444884 0.16257409 0.1625833  0.14336477 0.14783526\n",
      " 0.15006591 0.13198112 0.1382306  0.15519546 0.16149564 0.16349123\n",
      " 0.14151204 0.1343869  0.1439639  0.1397515  0.13639632 0.13555752\n",
      " 0.1405949  0.14901511 0.14449391 0.14213883 0.12851072 0.13093954\n",
      " 0.13811538 0.13326697 0.12451954 0.11840832 0.12831255 0.12934952\n",
      " 0.12989796 0.14899667 0.16608135 0.17213727 0.16302574 0.17015089\n",
      " 0.18092618 0.17505922 0.17432643 0.16540847 0.17566297 0.16656067\n",
      " 0.16781425 0.17067168 0.18264985 0.19856391 0.21162514 0.228696\n",
      " 0.22030344 0.22683867 0.21745062 0.21325203 0.21076791 0.22209625\n",
      " 0.22305026 0.22003152 0.23637419 0.25878661 0.24552259 0.25676336\n",
      " 0.25530238 0.24796984 0.24394639 0.24010268 0.24522302 0.25411793\n",
      " 0.2670409  0.25330218 0.24966586 0.25379532 0.24955986 0.24706917\n",
      " 0.24517789 0.24313127 0.24112025 0.23920192 0.23738357 0.23565537\n",
      " 0.23400119 0.23240216 0.23083873 0.22929215 0.22774538 0.22618374\n",
      " 0.22459528 0.22297101 0.22130488 0.2195936  0.21783644 0.21603489\n",
      " 0.21419223 0.21231309 0.21040305 0.20846818 0.2065147  0.20454846\n",
      " 0.20257491 0.2005987  0.19862372 0.19665284]\n",
      "29 day output [[0.19468813]]\n",
      "[[0.24706916511058807], [0.24517789483070374], [0.24313126504421234], [0.24112024903297424], [0.23920191824436188], [0.23738357424736023], [0.23565536737442017], [0.23400118947029114], [0.23240216076374054], [0.23083873093128204], [0.2292921543121338], [0.22774538397789001], [0.22618374228477478], [0.22459527850151062], [0.22297100722789764], [0.22130487859249115], [0.2195935994386673], [0.2178364396095276], [0.2160348892211914], [0.2141922265291214], [0.21231308579444885], [0.21040305495262146], [0.20846818387508392], [0.20651470124721527], [0.20454846322536469], [0.20257490873336792], [0.20059870183467865], [0.19862371683120728], [0.1966528445482254], [0.1946881264448166]]\n"
     ]
    }
   ],
   "source": [
    "# demonstrate prediction for next 10 days\n",
    "from numpy import array\n",
    "\n",
    "lst_output=[]\n",
    "n_steps=100\n",
    "i=0\n",
    "while(i<30):\n",
    "    \n",
    "    if(len(temp_input)>100):\n",
    "        #print(temp_input)\n",
    "        x_input=np.array(temp_input[1:])\n",
    "        print(\"{} day input {}\".format(i,x_input))\n",
    "        x_input=x_input.reshape(1,-1)\n",
    "        x_input = x_input.reshape((1, n_steps, 1))\n",
    "        #print(x_input)\n",
    "        yhat = model.predict(x_input, verbose=0)\n",
    "        print(\"{} day output {}\".format(i,yhat))\n",
    "        temp_input.extend(yhat[0].tolist())\n",
    "        temp_input=temp_input[1:]\n",
    "        #print(temp_input)\n",
    "        lst_output.extend(yhat.tolist())\n",
    "        i=i+1\n",
    "    else:\n",
    "        x_input = x_input.reshape((1, n_steps,1))\n",
    "        yhat = model.predict(x_input, verbose=0)\n",
    "        print(yhat[0])\n",
    "        temp_input.extend(yhat[0].tolist())\n",
    "        print(len(temp_input))\n",
    "        lst_output.extend(yhat.tolist())\n",
    "        i=i+1\n",
    "    \n",
    "\n",
    "print(lst_output)"
   ]
  },
  {
   "cell_type": "code",
   "execution_count": 43,
   "metadata": {
    "id": "bPyuBIl56gmy"
   },
   "outputs": [],
   "source": [
    "day_new=np.arange(1,101)\n",
    "day_pred=np.arange(101,131)"
   ]
  },
  {
   "cell_type": "code",
   "execution_count": 44,
   "metadata": {
    "id": "-mPr-GnG6gcb"
   },
   "outputs": [],
   "source": [
    "import matplotlib.pyplot as plt"
   ]
  },
  {
   "cell_type": "code",
   "execution_count": 45,
   "metadata": {
    "colab": {
     "base_uri": "https://localhost:8080/"
    },
    "id": "0CfvhhCn6gSx",
    "outputId": "c35b8667-6108-4330-b2cd-d176ff1804e6"
   },
   "outputs": [
    {
     "data": {
      "text/plain": [
       "2433"
      ]
     },
     "execution_count": 45,
     "metadata": {
      "tags": []
     },
     "output_type": "execute_result"
    }
   ],
   "source": [
    "len(df1)"
   ]
  },
  {
   "cell_type": "code",
   "execution_count": 46,
   "metadata": {
    "colab": {
     "base_uri": "https://localhost:8080/",
     "height": 282
    },
    "id": "_etnswDr6z2D",
    "outputId": "2b6a48b3-b62b-4ff3-895b-d31823bba14e"
   },
   "outputs": [
    {
     "data": {
      "text/plain": [
       "[<matplotlib.lines.Line2D at 0x7f317c5d1390>]"
      ]
     },
     "execution_count": 46,
     "metadata": {
      "tags": []
     },
     "output_type": "execute_result"
    },
    {
     "data": {
      "image/png": "[encoded data removed]",
      "text/plain": [
       "<Figure size 432x288 with 1 Axes>"
      ]
     },
     "metadata": {
      "needs_background": "light",
      "tags": []
     },
     "output_type": "display_data"
    }
   ],
   "source": [
    "plt.plot(day_new,scaler.inverse_transform(df1[2333:]))\n",
    "plt.plot(day_pred,scaler.inverse_transform(lst_output))"
   ]
  },
  {
   "cell_type": "code",
   "execution_count": 47,
   "metadata": {
    "colab": {
     "base_uri": "https://localhost:8080/",
     "height": 282
    },
    "id": "oKUlWwC96ztm",
    "outputId": "c0f14eb4-baf4-4104-dcdd-a7bd0680519e"
   },
   "outputs": [
    {
     "data": {
      "text/plain": [
       "[<matplotlib.lines.Line2D at 0x7f317c517e10>]"
      ]
     },
     "execution_count": 47,
     "metadata": {
      "tags": []
     },
     "output_type": "execute_result"
    },
    {
     "data": {
      "image/png": "[encoded data removed]",
      "text/plain": [
       "<Figure size 432x288 with 1 Axes>"
      ]
     },
     "metadata": {
      "needs_background": "light",
      "tags": []
     },
     "output_type": "display_data"
    }
   ],
   "source": [
    "df3=df1.tolist()\n",
    "df3.extend(lst_output)\n",
    "plt.plot(df3[2000:])"
   ]
  },
  {
   "cell_type": "code",
   "execution_count": 48,
   "metadata": {
    "id": "hZj8jCiZ7EXB"
   },
   "outputs": [],
   "source": [
    "df3=scaler.inverse_transform(df3).tolist()"
   ]
  },
  {
   "cell_type": "code",
   "execution_count": 49,
   "metadata": {
    "colab": {
     "base_uri": "https://localhost:8080/",
     "height": 282
    },
    "id": "f1VEfifD7I8c",
    "outputId": "94d803e5-81d2-4de4-a6a7-06a0044ae2b9"
   },
   "outputs": [
    {
     "data": {
      "text/plain": [
       "[<matplotlib.lines.Line2D at 0x7f317c5dc898>]"
      ]
     },
     "execution_count": 49,
     "metadata": {
      "tags": []
     },
     "output_type": "execute_result"
    },
    {
     "data": {
      "image/png": "[encoded data removed]",
      "text/plain": [
       "<Figure size 432x288 with 1 Axes>"
      ]
     },
     "metadata": {
      "needs_background": "light",
      "tags": []
     },
     "output_type": "display_data"
    }
   ],
   "source": [
    "plt.plot(df3)"
   ]
  },
  {
   "cell_type": "code",
   "execution_count": 50,
   "metadata": {
    "colab": {
     "base_uri": "https://localhost:8080/",
     "height": 284
    },
    "id": "fhvopd_lykWe",
    "outputId": "97d50dbc-fa7f-420e-ce14-ceafad520a73"
   },
   "outputs": [
    {
     "data": {
      "text/plain": [
       "[<matplotlib.lines.Line2D at 0x7f317c0cc860>]"
      ]
     },
     "execution_count": 50,
     "metadata": {
      "tags": []
     },
     "output_type": "execute_result"
    },
    {
     "data": {
      "image/png": "[encoded data removed]",
      "text/plain": [
       "<Figure size 432x288 with 1 Axes>"
      ]
     },
     "metadata": {
      "needs_background": "light",
      "tags": []
     },
     "output_type": "display_data"
    }
   ],
   "source": [
    "plt.plot(df3[2000:])"
   ]
  }
 ],
 "metadata": {
  "accelerator": "GPU",
  "colab": {
   "name": "StockPricePrediction.ipynb",
   "provenance": []
  },
  "kernelspec": {
   "display_name": "Python 3",
   "language": "python",
   "name": "python3"
  },
  "language_info": {
   "codemirror_mode": {
    "name": "ipython",
    "version": 3
   },
   "file_extension": ".py",
   "mimetype": "text/x-python",
   "name": "python",
   "nbconvert_exporter": "python",
   "pygments_lexer": "ipython3",
   "version": "3.7.3"
  }
 },
 "nbformat": 4,
 "nbformat_minor": 1
}
